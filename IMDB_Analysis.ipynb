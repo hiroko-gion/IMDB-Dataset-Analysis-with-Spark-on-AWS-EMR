{
 "cells": [
  {
   "cell_type": "markdown",
   "id": "73bc9548",
   "metadata": {},
   "source": [
    "# Analysis of IMDB Data"
   ]
  },
  {
   "cell_type": "markdown",
   "id": "7679c0c0",
   "metadata": {},
   "source": [
    "Analyzing a subset of IMDB's actors, genres, movie actors, and movie ratings data sourced from Kaggle via a public s3 bucket. (https://www.kaggle.com/datasets/ashirwadsangwan/imdb-dataset) \n",
    "\n",
    "* s3://cis9760-lecture9-movieanalysis/name.basics.tsv ---> Name Basics\n",
    "* s3://cis9760-lecture9-movieanalysis/title.basics.tsv ---> Title Basics\n",
    "* s3://cis9760-lecture9-movieanalysis/title.principals.tsv ---> Title Principles\n",
    "* s3://cis9760-lecture9-movieanalysis/title.ratings.tsv ---> Title Ratings"
   ]
  },
  {
   "cell_type": "markdown",
   "id": "c1dde3fb",
   "metadata": {
    "tags": []
   },
   "source": [
    "# Content\n",
    "\n",
    "**<br />name.basics.tsv.gz – Contains the following information for names:**\n",
    "<br />nconst (string) - alphanumeric unique identifier of the name/person.\n",
    "<br />primaryName (string)– name by which the person is most often credited.\n",
    "<br />birthYear – in YYYY format.\n",
    "<br />deathYear – in YYYY format if applicable, else .\n",
    "<br />primaryProfession (array of strings)– the top-3 professions of the person.\n",
    "<br />knownForTitles (array of tconsts) – titles the person is known for.\n",
    "<br/><br/>\n",
    "**<br />title.basics.tsv.gz - Contains the following information for titles:**\n",
    "<br />tconst (string) - alphanumeric unique identifier of the title.\n",
    "<br />titleType (string) – the type/format of the title (e.g. movie, short, tvseries, tvepisode, video, etc).\n",
    "<br />primaryTitle (string) – the more popular title / the title used by the filmmakers on promotional materials at the point of release.\n",
    "<br />originalTitle (string) - original title, in the original language.\n",
    "<br />isAdult (boolean) - 0: non-adult title; 1: adult title.\n",
    "<br />startYear (YYYY) – represents the release year of a title. In the case of TV Series, it is the series start year.\n",
    "<br />endYear (YYYY) – TV Series end year. for all other title types.\n",
    "<br />runtimeMinutes – primary runtime of the title, in minutes.\n",
    "<br />genres (string array) – includes up to three genres associated with the title.\n",
    "<br/><br/>\n",
    "**<br />title.principals.tsv – Contains the principal cast/crew for titles:**\n",
    "<br />tconst (string) - alphanumeric unique identifier of the title.\n",
    "<br />ordering (integer) – a number to uniquely identify rows for a given titleId.\n",
    "<br />nconst (string) - alphanumeric unique identifier of the name/person.\n",
    "<br />category (string) - the category of job that person was in.\n",
    "<br />job (string) - the specific job title if applicable, else.\n",
    "<br />characters (string) - the name of the character played if applicable, else.\n",
    "<br/><br/>\n",
    "**<br />title.ratings.tsv.gz – Contains the IMDb rating and votes information for titles:**\n",
    "<br />tconst (string) - alphanumeric unique identifier of the title.\n",
    "<br />averageRating – weighted average of all the individual user ratings.\n",
    "<br />numVotes - number of votes the title has received."
   ]
  },
  {
   "cell_type": "markdown",
   "id": "08416e6e",
   "metadata": {},
   "source": [
    "# PART 1 - Installation and Initial Setup"
   ]
  },
  {
   "cell_type": "markdown",
   "id": "04b07b9f",
   "metadata": {},
   "source": [
    "Begin by installing the necessary libraries "
   ]
  },
  {
   "cell_type": "code",
   "execution_count": 1,
   "id": "0c8b0667",
   "metadata": {
    "execution": {
     "iopub.execute_input": "2023-12-06T16:51:59.283725Z",
     "iopub.status.busy": "2023-12-06T16:51:59.283433Z",
     "iopub.status.idle": "2023-12-06T16:51:59.923404Z",
     "shell.execute_reply": "2023-12-06T16:51:59.922635Z",
     "shell.execute_reply.started": "2023-12-06T16:51:59.283702Z"
    },
    "tags": []
   },
   "outputs": [
    {
     "data": {
      "text/html": [
       "Current session configs: <tt>{'proxyUser': 'user_EMR-User-Lecture8', 'conf': {'spark.pyspark.python': 'python3', 'spark.pyspark.virtualenv.enabled': 'true', 'spark.pyspark.virtualenv.type': 'native', 'spark.pyspark.virtualenv.bin.path': '/usr/bin/virtualenv'}, 'kind': 'pyspark'}</tt><br>"
      ],
      "text/plain": [
       "<IPython.core.display.HTML object>"
      ]
     },
     "metadata": {},
     "output_type": "display_data"
    },
    {
     "data": {
      "text/html": [
       "No active sessions."
      ],
      "text/plain": [
       "<IPython.core.display.HTML object>"
      ]
     },
     "metadata": {},
     "output_type": "display_data"
    }
   ],
   "source": [
    "%%info"
   ]
  },
  {
   "cell_type": "markdown",
   "id": "1fc39c6b",
   "metadata": {},
   "source": [
    "Installing the necessary packages"
   ]
  },
  {
   "cell_type": "code",
   "execution_count": 2,
   "id": "e0a576cf",
   "metadata": {
    "execution": {
     "iopub.execute_input": "2023-12-06T16:52:21.442685Z",
     "iopub.status.busy": "2023-12-06T16:52:21.442447Z",
     "iopub.status.idle": "2023-12-06T16:54:08.724713Z",
     "shell.execute_reply": "2023-12-06T16:54:08.724075Z",
     "shell.execute_reply.started": "2023-12-06T16:52:21.442660Z"
    },
    "tags": []
   },
   "outputs": [
    {
     "data": {
      "application/vnd.jupyter.widget-view+json": {
       "model_id": "155117c9da92414eb0db3f69fb82cdb2",
       "version_major": 2,
       "version_minor": 0
      },
      "text/plain": [
       "VBox()"
      ]
     },
     "metadata": {},
     "output_type": "display_data"
    },
    {
     "name": "stdout",
     "output_type": "stream",
     "text": [
      "Starting Spark application\n"
     ]
    },
    {
     "data": {
      "text/html": [
       "<table>\n",
       "<tbody><tr><th>ID</th><th>YARN Application ID</th><th>Kind</th><th>State</th><th>Spark UI</th><th>Driver log</th><th>User</th><th>Current session?</th></tr><tr><td>0</td><td>application_1701881141930_0001</td><td>pyspark</td><td>idle</td><td><a target=\"_blank\" href=\"http://ip-172-31-47-21.us-east-2.compute.internal:20888/proxy/application_1701881141930_0001/\" class=\"emr-proxy-link j-84UYUUGPT87A application_1701881141930_0001\" emr-resource=\"j-84UYUUGPT87A\n",
       "\" application-id=\"application_1701881141930_0001\">Link</a></td><td><a target=\"_blank\" href=\"http://ip-172-31-36-187.us-east-2.compute.internal:8042/node/containerlogs/container_1701881141930_0001_01_000001/livy\">Link</a></td><td>None</td><td>✔</td></tr></tbody></table>"
      ],
      "text/plain": [
       "<IPython.core.display.HTML object>"
      ]
     },
     "metadata": {},
     "output_type": "display_data"
    },
    {
     "data": {
      "application/vnd.jupyter.widget-view+json": {
       "model_id": "",
       "version_major": 2,
       "version_minor": 0
      },
      "text/plain": [
       "FloatProgress(value=0.0, bar_style='info', description='Progress:', layout=Layout(height='25px', width='50%'),…"
      ]
     },
     "metadata": {},
     "output_type": "display_data"
    },
    {
     "name": "stdout",
     "output_type": "stream",
     "text": [
      "SparkSession available as 'spark'.\n"
     ]
    },
    {
     "data": {
      "application/vnd.jupyter.widget-view+json": {
       "model_id": "",
       "version_major": 2,
       "version_minor": 0
      },
      "text/plain": [
       "FloatProgress(value=0.0, bar_style='info', description='Progress:', layout=Layout(height='25px', width='50%'),…"
      ]
     },
     "metadata": {},
     "output_type": "display_data"
    },
    {
     "name": "stdout",
     "output_type": "stream",
     "text": [
      "Collecting pandas==1.0.5\n",
      "  Downloading pandas-1.0.5-cp37-cp37m-manylinux1_x86_64.whl (10.1 MB)\n",
      "Collecting python-dateutil>=2.6.1\n",
      "  Downloading python_dateutil-2.8.2-py2.py3-none-any.whl (247 kB)\n",
      "Requirement already satisfied: pytz>=2017.2 in /usr/local/lib/python3.7/site-packages (from pandas==1.0.5) (2023.3.post1)\n",
      "Requirement already satisfied: numpy>=1.13.3 in /usr/local/lib64/python3.7/site-packages (from pandas==1.0.5) (1.20.0)\n",
      "Requirement already satisfied: six>=1.5 in /usr/local/lib/python3.7/site-packages (from python-dateutil>=2.6.1->pandas==1.0.5) (1.13.0)\n",
      "Installing collected packages: python-dateutil, pandas\n",
      "Successfully installed pandas-1.0.5 python-dateutil-2.8.2\n",
      "\n",
      "Collecting matplotlib==3.2.1\n",
      "  Downloading matplotlib-3.2.1-cp37-cp37m-manylinux1_x86_64.whl (12.4 MB)\n",
      "Collecting cycler>=0.10\n",
      "  Downloading cycler-0.11.0-py3-none-any.whl (6.4 kB)\n",
      "Collecting pyparsing!=2.0.4,!=2.1.2,!=2.1.6,>=2.0.1\n",
      "  Downloading pyparsing-3.1.1-py3-none-any.whl (103 kB)\n",
      "Requirement already satisfied: numpy>=1.11 in /usr/local/lib64/python3.7/site-packages (from matplotlib==3.2.1) (1.20.0)\n",
      "Requirement already satisfied: python-dateutil>=2.1 in ./tmp/spark-befd2ff5-7c0b-4be0-ac75-8792d6fb2c50/lib/python3.7/site-packages (from matplotlib==3.2.1) (2.8.2)\n",
      "Collecting kiwisolver>=1.0.1\n",
      "  Downloading kiwisolver-1.4.5-cp37-cp37m-manylinux_2_5_x86_64.manylinux1_x86_64.whl (1.1 MB)\n",
      "Requirement already satisfied: six>=1.5 in /usr/local/lib/python3.7/site-packages (from python-dateutil>=2.1->matplotlib==3.2.1) (1.13.0)\n",
      "Collecting typing-extensions; python_version < \"3.8\"\n",
      "  Downloading typing_extensions-4.7.1-py3-none-any.whl (33 kB)\n",
      "Installing collected packages: cycler, pyparsing, typing-extensions, kiwisolver, matplotlib\n",
      "Successfully installed cycler-0.11.0 kiwisolver-1.4.5 matplotlib-3.2.1 pyparsing-3.1.1 typing-extensions-4.7.1\n",
      "\n",
      "WARNING: The directory '/home/.cache/pip' or its parent directory is not owned or is not writable by the current user. The cache has been disabled. Check the permissions and owner of that directory. If executing pip with sudo, you may want sudo's -H flag.\n",
      "\n",
      "WARNING: The directory '/home/.cache/pip' or its parent directory is not owned or is not writable by the current user. The cache has been disabled. Check the permissions and owner of that directory. If executing pip with sudo, you may want sudo's -H flag."
     ]
    }
   ],
   "source": [
    "sc.install_pypi_package(\"pandas==1.0.5\")\n",
    "sc.install_pypi_package(\"matplotlib==3.2.1\")"
   ]
  },
  {
   "cell_type": "markdown",
   "id": "5ab05754",
   "metadata": {},
   "source": [
    "Now, importing the installed packages from the previous block"
   ]
  },
  {
   "cell_type": "code",
   "execution_count": 3,
   "id": "6d0a7012",
   "metadata": {
    "execution": {
     "iopub.execute_input": "2023-12-06T16:54:28.311762Z",
     "iopub.status.busy": "2023-12-06T16:54:28.311542Z",
     "iopub.status.idle": "2023-12-06T16:54:33.635535Z",
     "shell.execute_reply": "2023-12-06T16:54:33.634809Z",
     "shell.execute_reply.started": "2023-12-06T16:54:28.311738Z"
    },
    "tags": []
   },
   "outputs": [
    {
     "data": {
      "application/vnd.jupyter.widget-view+json": {
       "model_id": "e99ff9185b8a41a894599fb7d39fcfa5",
       "version_major": 2,
       "version_minor": 0
      },
      "text/plain": [
       "VBox()"
      ]
     },
     "metadata": {},
     "output_type": "display_data"
    },
    {
     "data": {
      "application/vnd.jupyter.widget-view+json": {
       "model_id": "",
       "version_major": 2,
       "version_minor": 0
      },
      "text/plain": [
       "FloatProgress(value=0.0, bar_style='info', description='Progress:', layout=Layout(height='25px', width='50%'),…"
      ]
     },
     "metadata": {},
     "output_type": "display_data"
    }
   ],
   "source": [
    "import pandas as pd\n",
    "import matplotlib.pyplot as plt"
   ]
  },
  {
   "cell_type": "markdown",
   "id": "e963f4ba",
   "metadata": {},
   "source": [
    "# Loading Data"
   ]
  },
  {
   "cell_type": "markdown",
   "id": "b4356189",
   "metadata": {},
   "source": [
    "Loading all data from S3 into a Spark dataframe object "
   ]
  },
  {
   "cell_type": "code",
   "execution_count": 4,
   "id": "24beddd1",
   "metadata": {
    "execution": {
     "iopub.execute_input": "2023-12-06T16:54:34.497328Z",
     "iopub.status.busy": "2023-12-06T16:54:34.497103Z",
     "iopub.status.idle": "2023-12-06T16:54:43.823457Z",
     "shell.execute_reply": "2023-12-06T16:54:43.822505Z",
     "shell.execute_reply.started": "2023-12-06T16:54:34.497304Z"
    },
    "tags": []
   },
   "outputs": [
    {
     "data": {
      "application/vnd.jupyter.widget-view+json": {
       "model_id": "b9ab006e85424cd98d44e03a78978219",
       "version_major": 2,
       "version_minor": 0
      },
      "text/plain": [
       "VBox()"
      ]
     },
     "metadata": {},
     "output_type": "display_data"
    },
    {
     "data": {
      "application/vnd.jupyter.widget-view+json": {
       "model_id": "",
       "version_major": 2,
       "version_minor": 0
      },
      "text/plain": [
       "FloatProgress(value=0.0, bar_style='info', description='Progress:', layout=Layout(height='25px', width='50%'),…"
      ]
     },
     "metadata": {},
     "output_type": "display_data"
    }
   ],
   "source": [
    "name = spark.read.csv('s3://cis9760-lecture9-movieanalysis/name.basics.tsv', sep=r'\\t', header=True)\n",
    "titles = spark.read.csv('s3://cis9760-lecture9-movieanalysis/title.basics.tsv', sep=r'\\t', header=True)\n",
    "principals = spark.read.csv('s3://cis9760-lecture9-movieanalysis/title.principals.tsv', sep=r'\\t', header=True)\n",
    "ratings = spark.read.csv('s3://cis9760-lecture9-movieanalysis/title.ratings.tsv', sep=r'\\t', header=True)"
   ]
  },
  {
   "cell_type": "markdown",
   "id": "c65401c7",
   "metadata": {},
   "source": [
    "## Name Basics"
   ]
  },
  {
   "cell_type": "markdown",
   "id": "03981851",
   "metadata": {},
   "source": [
    "Displaying the schema:"
   ]
  },
  {
   "cell_type": "code",
   "execution_count": 5,
   "id": "98b95e51",
   "metadata": {
    "execution": {
     "iopub.execute_input": "2023-12-06T16:54:45.638395Z",
     "iopub.status.busy": "2023-12-06T16:54:45.638149Z",
     "iopub.status.idle": "2023-12-06T16:54:45.907058Z",
     "shell.execute_reply": "2023-12-06T16:54:45.906285Z",
     "shell.execute_reply.started": "2023-12-06T16:54:45.638369Z"
    },
    "tags": []
   },
   "outputs": [
    {
     "data": {
      "application/vnd.jupyter.widget-view+json": {
       "model_id": "eb18fb5a9c16402c936cad05328ee925",
       "version_major": 2,
       "version_minor": 0
      },
      "text/plain": [
       "VBox()"
      ]
     },
     "metadata": {},
     "output_type": "display_data"
    },
    {
     "data": {
      "application/vnd.jupyter.widget-view+json": {
       "model_id": "",
       "version_major": 2,
       "version_minor": 0
      },
      "text/plain": [
       "FloatProgress(value=0.0, bar_style='info', description='Progress:', layout=Layout(height='25px', width='50%'),…"
      ]
     },
     "metadata": {},
     "output_type": "display_data"
    },
    {
     "name": "stdout",
     "output_type": "stream",
     "text": [
      "root\n",
      " |-- nconst: string (nullable = true)\n",
      " |-- primaryName: string (nullable = true)\n",
      " |-- birthYear: string (nullable = true)\n",
      " |-- deathYear: string (nullable = true)\n",
      " |-- primaryProfession: string (nullable = true)\n",
      " |-- knownForTitles: string (nullable = true)"
     ]
    }
   ],
   "source": [
    "name.printSchema()"
   ]
  },
  {
   "cell_type": "markdown",
   "id": "dfd8a219",
   "metadata": {
    "tags": []
   },
   "source": [
    "Displaying the first 5 rows with the following columns:\n",
    "\n",
    "* `primaryName`\n",
    "* `birthYear`\n",
    "* `deathYear`\n",
    "* `knownForTitles`"
   ]
  },
  {
   "cell_type": "code",
   "execution_count": 6,
   "id": "29db2340",
   "metadata": {
    "execution": {
     "iopub.execute_input": "2023-12-06T16:55:20.036937Z",
     "iopub.status.busy": "2023-12-06T16:55:20.036599Z",
     "iopub.status.idle": "2023-12-06T16:55:20.822782Z",
     "shell.execute_reply": "2023-12-06T16:55:20.822024Z",
     "shell.execute_reply.started": "2023-12-06T16:55:20.036899Z"
    },
    "tags": []
   },
   "outputs": [
    {
     "data": {
      "application/vnd.jupyter.widget-view+json": {
       "model_id": "bce9bb406829480dba20e2025d9f2391",
       "version_major": 2,
       "version_minor": 0
      },
      "text/plain": [
       "VBox()"
      ]
     },
     "metadata": {},
     "output_type": "display_data"
    },
    {
     "data": {
      "application/vnd.jupyter.widget-view+json": {
       "model_id": "",
       "version_major": 2,
       "version_minor": 0
      },
      "text/plain": [
       "FloatProgress(value=0.0, bar_style='info', description='Progress:', layout=Layout(height='25px', width='50%'),…"
      ]
     },
     "metadata": {},
     "output_type": "display_data"
    },
    {
     "name": "stdout",
     "output_type": "stream",
     "text": [
      "+---------------+---------+---------+--------------------+\n",
      "|    primaryName|birthYear|deathYear|      knownForTitles|\n",
      "+---------------+---------+---------+--------------------+\n",
      "|   Fred Astaire|     1899|     1987|tt0050419,tt00531...|\n",
      "|  Lauren Bacall|     1924|     2014|tt0071877,tt01170...|\n",
      "|Brigitte Bardot|     1934|       \\N|tt0054452,tt00491...|\n",
      "|   John Belushi|     1949|     1982|tt0077975,tt00725...|\n",
      "| Ingmar Bergman|     1918|     2007|tt0069467,tt00509...|\n",
      "+---------------+---------+---------+--------------------+\n",
      "only showing top 5 rows"
     ]
    }
   ],
   "source": [
    "name.select('primaryName', 'birthYear', 'deathYear', 'knownForTitles').show(5)"
   ]
  },
  {
   "cell_type": "markdown",
   "id": "65371453",
   "metadata": {},
   "source": [
    "## Title Basics"
   ]
  },
  {
   "cell_type": "markdown",
   "id": "b95d8c5a",
   "metadata": {},
   "source": [
    "Displaying the first 15 rows with the following columns:\n",
    "    \n",
    "* `titleType`\n",
    "* `primaryTitle`\n",
    "* `genres`"
   ]
  },
  {
   "cell_type": "code",
   "execution_count": 7,
   "id": "74c95177",
   "metadata": {
    "execution": {
     "iopub.execute_input": "2023-12-06T16:55:37.761356Z",
     "iopub.status.busy": "2023-12-06T16:55:37.761139Z",
     "iopub.status.idle": "2023-12-06T16:55:38.534555Z",
     "shell.execute_reply": "2023-12-06T16:55:38.533903Z",
     "shell.execute_reply.started": "2023-12-06T16:55:37.761334Z"
    },
    "tags": []
   },
   "outputs": [
    {
     "data": {
      "application/vnd.jupyter.widget-view+json": {
       "model_id": "fc0a6f5c3b7b496c87fe7ef9bc50b19a",
       "version_major": 2,
       "version_minor": 0
      },
      "text/plain": [
       "VBox()"
      ]
     },
     "metadata": {},
     "output_type": "display_data"
    },
    {
     "data": {
      "application/vnd.jupyter.widget-view+json": {
       "model_id": "",
       "version_major": 2,
       "version_minor": 0
      },
      "text/plain": [
       "FloatProgress(value=0.0, bar_style='info', description='Progress:', layout=Layout(height='25px', width='50%'),…"
      ]
     },
     "metadata": {},
     "output_type": "display_data"
    },
    {
     "name": "stdout",
     "output_type": "stream",
     "text": [
      "+---------+--------------------+--------------------+\n",
      "|titleType|        primaryTitle|              genres|\n",
      "+---------+--------------------+--------------------+\n",
      "|    short|          Carmencita|   Documentary,Short|\n",
      "|    short|Le clown et ses c...|     Animation,Short|\n",
      "|    short|      Pauvre Pierrot|Animation,Comedy,...|\n",
      "|    short|         Un bon bock|     Animation,Short|\n",
      "|    short|    Blacksmith Scene|        Comedy,Short|\n",
      "|    short|   Chinese Opium Den|               Short|\n",
      "|    short|Corbett and Court...|         Short,Sport|\n",
      "|    short|Edison Kinetoscop...|   Documentary,Short|\n",
      "|    movie|          Miss Jerry|             Romance|\n",
      "|    short| Exiting the Factory|   Documentary,Short|\n",
      "|    short|Akrobatisches Pot...|   Documentary,Short|\n",
      "|    short|The Arrival of a ...|Action,Documentar...|\n",
      "|    short|The Photographica...|   Documentary,Short|\n",
      "|    short|The Sprinkler Spr...|        Comedy,Short|\n",
      "|    short| Autour d'une cabine|     Animation,Short|\n",
      "+---------+--------------------+--------------------+\n",
      "only showing top 15 rows"
     ]
    }
   ],
   "source": [
    "titles.select('titleType', 'primaryTitle', 'genres').show(15)"
   ]
  },
  {
   "cell_type": "markdown",
   "id": "f3852bb4",
   "metadata": {},
   "source": [
    "Displaying the unique titles:"
   ]
  },
  {
   "cell_type": "code",
   "execution_count": 8,
   "id": "2a28caff",
   "metadata": {
    "execution": {
     "iopub.execute_input": "2023-12-06T16:55:55.756623Z",
     "iopub.status.busy": "2023-12-06T16:55:55.756403Z",
     "iopub.status.idle": "2023-12-06T16:56:05.068064Z",
     "shell.execute_reply": "2023-12-06T16:56:05.067443Z",
     "shell.execute_reply.started": "2023-12-06T16:55:55.756600Z"
    },
    "tags": []
   },
   "outputs": [
    {
     "data": {
      "application/vnd.jupyter.widget-view+json": {
       "model_id": "e67215b950e64a1ea05cccd7fa8734b1",
       "version_major": 2,
       "version_minor": 0
      },
      "text/plain": [
       "VBox()"
      ]
     },
     "metadata": {},
     "output_type": "display_data"
    },
    {
     "data": {
      "application/vnd.jupyter.widget-view+json": {
       "model_id": "",
       "version_major": 2,
       "version_minor": 0
      },
      "text/plain": [
       "FloatProgress(value=0.0, bar_style='info', description='Progress:', layout=Layout(height='25px', width='50%'),…"
      ]
     },
     "metadata": {},
     "output_type": "display_data"
    },
    {
     "name": "stdout",
     "output_type": "stream",
     "text": [
      "+------------+\n",
      "|   titleType|\n",
      "+------------+\n",
      "|    tvSeries|\n",
      "|tvMiniSeries|\n",
      "|       movie|\n",
      "|   videoGame|\n",
      "|   tvSpecial|\n",
      "|       video|\n",
      "|     tvMovie|\n",
      "|   tvEpisode|\n",
      "|     tvShort|\n",
      "|       short|\n",
      "+------------+"
     ]
    }
   ],
   "source": [
    "unique_title = titles.select('titleType').distinct()\n",
    "unique_title.show()"
   ]
  },
  {
   "cell_type": "markdown",
   "id": "d8f3c92f",
   "metadata": {},
   "source": [
    "Displaying the schema:"
   ]
  },
  {
   "cell_type": "code",
   "execution_count": 9,
   "id": "8334d2fe",
   "metadata": {
    "execution": {
     "iopub.execute_input": "2023-12-06T16:56:07.382562Z",
     "iopub.status.busy": "2023-12-06T16:56:07.382345Z",
     "iopub.status.idle": "2023-12-06T16:56:07.435962Z",
     "shell.execute_reply": "2023-12-06T16:56:07.435313Z",
     "shell.execute_reply.started": "2023-12-06T16:56:07.382539Z"
    },
    "tags": []
   },
   "outputs": [
    {
     "data": {
      "application/vnd.jupyter.widget-view+json": {
       "model_id": "e0b41142d10c4ebdad4e5402ac9046a8",
       "version_major": 2,
       "version_minor": 0
      },
      "text/plain": [
       "VBox()"
      ]
     },
     "metadata": {},
     "output_type": "display_data"
    },
    {
     "data": {
      "application/vnd.jupyter.widget-view+json": {
       "model_id": "",
       "version_major": 2,
       "version_minor": 0
      },
      "text/plain": [
       "FloatProgress(value=0.0, bar_style='info', description='Progress:', layout=Layout(height='25px', width='50%'),…"
      ]
     },
     "metadata": {},
     "output_type": "display_data"
    },
    {
     "name": "stdout",
     "output_type": "stream",
     "text": [
      "root\n",
      " |-- tconst: string (nullable = true)\n",
      " |-- titleType: string (nullable = true)\n",
      " |-- primaryTitle: string (nullable = true)\n",
      " |-- originalTitle: string (nullable = true)\n",
      " |-- isAdult: string (nullable = true)\n",
      " |-- startYear: string (nullable = true)\n",
      " |-- endYear: string (nullable = true)\n",
      " |-- runtimeMinutes: string (nullable = true)\n",
      " |-- genres: string (nullable = true)"
     ]
    }
   ],
   "source": [
    "titles.printSchema()"
   ]
  },
  {
   "cell_type": "markdown",
   "id": "bf21e1b7",
   "metadata": {},
   "source": [
    "## Title Principles"
   ]
  },
  {
   "cell_type": "markdown",
   "id": "819b6004",
   "metadata": {},
   "source": [
    "Displaying the schema:"
   ]
  },
  {
   "cell_type": "code",
   "execution_count": 10,
   "id": "b7241872",
   "metadata": {
    "execution": {
     "iopub.execute_input": "2023-12-06T16:56:31.558762Z",
     "iopub.status.busy": "2023-12-06T16:56:31.558530Z",
     "iopub.status.idle": "2023-12-06T16:56:31.621146Z",
     "shell.execute_reply": "2023-12-06T16:56:31.620474Z",
     "shell.execute_reply.started": "2023-12-06T16:56:31.558726Z"
    },
    "tags": []
   },
   "outputs": [
    {
     "data": {
      "application/vnd.jupyter.widget-view+json": {
       "model_id": "97f1086a7e1e431cb5eef59d3b99cb70",
       "version_major": 2,
       "version_minor": 0
      },
      "text/plain": [
       "VBox()"
      ]
     },
     "metadata": {},
     "output_type": "display_data"
    },
    {
     "data": {
      "application/vnd.jupyter.widget-view+json": {
       "model_id": "",
       "version_major": 2,
       "version_minor": 0
      },
      "text/plain": [
       "FloatProgress(value=0.0, bar_style='info', description='Progress:', layout=Layout(height='25px', width='50%'),…"
      ]
     },
     "metadata": {},
     "output_type": "display_data"
    },
    {
     "name": "stdout",
     "output_type": "stream",
     "text": [
      "root\n",
      " |-- tconst: string (nullable = true)\n",
      " |-- ordering: string (nullable = true)\n",
      " |-- nconst: string (nullable = true)\n",
      " |-- category: string (nullable = true)\n",
      " |-- job: string (nullable = true)\n",
      " |-- characters: string (nullable = true)"
     ]
    }
   ],
   "source": [
    "principals.printSchema()"
   ]
  },
  {
   "cell_type": "markdown",
   "id": "e24870d3",
   "metadata": {},
   "source": [
    "Displaying the first 15 rows where the \"category\" column is \"self\""
   ]
  },
  {
   "cell_type": "code",
   "execution_count": 11,
   "id": "3f6dbef1",
   "metadata": {
    "execution": {
     "iopub.execute_input": "2023-12-06T16:56:34.729739Z",
     "iopub.status.busy": "2023-12-06T16:56:34.729497Z",
     "iopub.status.idle": "2023-12-06T16:56:35.495519Z",
     "shell.execute_reply": "2023-12-06T16:56:35.494757Z",
     "shell.execute_reply.started": "2023-12-06T16:56:34.729714Z"
    },
    "tags": []
   },
   "outputs": [
    {
     "data": {
      "application/vnd.jupyter.widget-view+json": {
       "model_id": "f45c9c609fa14be99b3cc79fe8fcb387",
       "version_major": 2,
       "version_minor": 0
      },
      "text/plain": [
       "VBox()"
      ]
     },
     "metadata": {},
     "output_type": "display_data"
    },
    {
     "data": {
      "application/vnd.jupyter.widget-view+json": {
       "model_id": "",
       "version_major": 2,
       "version_minor": 0
      },
      "text/plain": [
       "FloatProgress(value=0.0, bar_style='info', description='Progress:', layout=Layout(height='25px', width='50%'),…"
      ]
     },
     "metadata": {},
     "output_type": "display_data"
    },
    {
     "name": "stdout",
     "output_type": "stream",
     "text": [
      "+---------+--------+---------+--------+---+--------------------+\n",
      "|   tconst|ordering|   nconst|category|job|          characters|\n",
      "+---------+--------+---------+--------+---+--------------------+\n",
      "|tt0000001|       1|nm1588970|    self| \\N|         [\"Herself\"]|\n",
      "|tt0000012|       1|nm2880396|    self| \\N|         [\"Herself\"]|\n",
      "|tt0000012|       2|nm9735580|    self| \\N|         [\"Himself\"]|\n",
      "|tt0000012|       3|nm0525900|    self| \\N|         [\"Herself\"]|\n",
      "|tt0000012|       4|nm9735581|    self| \\N|         [\"Herself\"]|\n",
      "|tt0000012|       7|nm9735579|    self| \\N|         [\"Herself\"]|\n",
      "|tt0000012|       8|nm9653419|    self| \\N|         [\"Herself\"]|\n",
      "|tt0000013|       1|nm0525908|    self| \\N|         [\"Himself\"]|\n",
      "|tt0000013|       2|nm1715062|    self| \\N|         [\"Himself\"]|\n",
      "|tt0000016|       1|nm0525900|    self| \\N|[\"Herself (on the...|\n",
      "|tt0000016|       2|nm9735581|    self| \\N|[\"Herself (on the...|\n",
      "|tt0000024|       1|nm0256651|    self| \\N|[\"Herself - Empre...|\n",
      "|tt0000024|       2|nm0435118|    self| \\N|[\"Himself - Emper...|\n",
      "|tt0000028|       1|nm2350838|    self| \\N|         [\"Himself\"]|\n",
      "|tt0000028|       2|nm0525908|    self| \\N|         [\"Himself\"]|\n",
      "+---------+--------+---------+--------+---+--------------------+\n",
      "only showing top 15 rows"
     ]
    }
   ],
   "source": [
    "principals.filter(principals[\"category\"] == \"self\").show(15)"
   ]
  },
  {
   "cell_type": "markdown",
   "id": "d8e128fc",
   "metadata": {},
   "source": [
    "## Title Ratings"
   ]
  },
  {
   "cell_type": "markdown",
   "id": "c40d60cd",
   "metadata": {},
   "source": [
    "Displaying the schema:"
   ]
  },
  {
   "cell_type": "code",
   "execution_count": 12,
   "id": "1ed78395",
   "metadata": {
    "execution": {
     "iopub.execute_input": "2023-12-06T16:56:44.892061Z",
     "iopub.status.busy": "2023-12-06T16:56:44.891842Z",
     "iopub.status.idle": "2023-12-06T16:56:44.945489Z",
     "shell.execute_reply": "2023-12-06T16:56:44.944848Z",
     "shell.execute_reply.started": "2023-12-06T16:56:44.892039Z"
    },
    "tags": []
   },
   "outputs": [
    {
     "data": {
      "application/vnd.jupyter.widget-view+json": {
       "model_id": "782149a082224623a51072fe725f5c20",
       "version_major": 2,
       "version_minor": 0
      },
      "text/plain": [
       "VBox()"
      ]
     },
     "metadata": {},
     "output_type": "display_data"
    },
    {
     "data": {
      "application/vnd.jupyter.widget-view+json": {
       "model_id": "",
       "version_major": 2,
       "version_minor": 0
      },
      "text/plain": [
       "FloatProgress(value=0.0, bar_style='info', description='Progress:', layout=Layout(height='25px', width='50%'),…"
      ]
     },
     "metadata": {},
     "output_type": "display_data"
    },
    {
     "name": "stdout",
     "output_type": "stream",
     "text": [
      "root\n",
      " |-- tconst: string (nullable = true)\n",
      " |-- averageRating: string (nullable = true)\n",
      " |-- numVotes: string (nullable = true)"
     ]
    }
   ],
   "source": [
    "ratings.printSchema()"
   ]
  },
  {
   "cell_type": "markdown",
   "id": "76ac1ac7",
   "metadata": {},
   "source": [
    "Displaying the first 10 rows in a descending order by the number of votes"
   ]
  },
  {
   "cell_type": "code",
   "execution_count": 13,
   "id": "9f663e07",
   "metadata": {
    "execution": {
     "iopub.execute_input": "2023-12-06T16:56:57.966583Z",
     "iopub.status.busy": "2023-12-06T16:56:57.966363Z",
     "iopub.status.idle": "2023-12-06T16:57:00.245330Z",
     "shell.execute_reply": "2023-12-06T16:57:00.244331Z",
     "shell.execute_reply.started": "2023-12-06T16:56:57.966560Z"
    },
    "tags": []
   },
   "outputs": [
    {
     "data": {
      "application/vnd.jupyter.widget-view+json": {
       "model_id": "83040a2c43b046febab8e863c5177010",
       "version_major": 2,
       "version_minor": 0
      },
      "text/plain": [
       "VBox()"
      ]
     },
     "metadata": {},
     "output_type": "display_data"
    },
    {
     "data": {
      "application/vnd.jupyter.widget-view+json": {
       "model_id": "",
       "version_major": 2,
       "version_minor": 0
      },
      "text/plain": [
       "FloatProgress(value=0.0, bar_style='info', description='Progress:', layout=Layout(height='25px', width='50%'),…"
      ]
     },
     "metadata": {},
     "output_type": "display_data"
    },
    {
     "name": "stdout",
     "output_type": "stream",
     "text": [
      "+---------+-------------+---------+\n",
      "|   tconst|averageRating| numVotes|\n",
      "+---------+-------------+---------+\n",
      "|tt0111161|          9.3|2159745.0|\n",
      "|tt0468569|          9.0|2134602.0|\n",
      "|tt1375666|          8.8|1892958.0|\n",
      "|tt0137523|          8.8|1725444.0|\n",
      "|tt0110912|          8.9|1695159.0|\n",
      "|tt0109830|          8.8|1662609.0|\n",
      "|tt0944947|          9.4|1606096.0|\n",
      "|tt0133093|          8.7|1554345.0|\n",
      "|tt0120737|          8.8|1548920.0|\n",
      "|tt0167260|          8.9|1533632.0|\n",
      "+---------+-------------+---------+\n",
      "only showing top 10 rows"
     ]
    }
   ],
   "source": [
    "from pyspark.sql.functions import col\n",
    "ratings.withColumn(\"numVotes\", col(\"numVotes\").cast(\"float\"))\\\n",
    "    .sort(col(\"numVotes\").desc())\\\n",
    "    .show(10)"
   ]
  },
  {
   "cell_type": "markdown",
   "id": "e77cf460",
   "metadata": {},
   "source": [
    "# Overview of Data"
   ]
  },
  {
   "cell_type": "markdown",
   "id": "2bc943bf",
   "metadata": {},
   "source": [
    "Displaying the number of rows and columns in each dataFrame object."
   ]
  },
  {
   "cell_type": "code",
   "execution_count": 14,
   "id": "15b35f7a",
   "metadata": {
    "execution": {
     "iopub.execute_input": "2023-12-06T16:57:23.561147Z",
     "iopub.status.busy": "2023-12-06T16:57:23.560925Z",
     "iopub.status.idle": "2023-12-06T16:57:42.919412Z",
     "shell.execute_reply": "2023-12-06T16:57:42.918792Z",
     "shell.execute_reply.started": "2023-12-06T16:57:23.561125Z"
    },
    "tags": []
   },
   "outputs": [
    {
     "data": {
      "application/vnd.jupyter.widget-view+json": {
       "model_id": "c7fdf9385e054f5680451e0fb9e856c3",
       "version_major": 2,
       "version_minor": 0
      },
      "text/plain": [
       "VBox()"
      ]
     },
     "metadata": {},
     "output_type": "display_data"
    },
    {
     "data": {
      "application/vnd.jupyter.widget-view+json": {
       "model_id": "",
       "version_major": 2,
       "version_minor": 0
      },
      "text/plain": [
       "FloatProgress(value=0.0, bar_style='info', description='Progress:', layout=Layout(height='25px', width='50%'),…"
      ]
     },
     "metadata": {},
     "output_type": "display_data"
    },
    {
     "name": "stdout",
     "output_type": "stream",
     "text": [
      "Number of columns in Name Basics table: 6\n",
      "Number of rows in Name Basics table: 9706922\n",
      "\n",
      "Number of columns in Title Basics table: 9\n",
      "Number of rows in Title Basics table: 6321302\n",
      "\n",
      "Number of columns in Title Principals table: 6\n",
      "Number of rows in Title Principals table: 36468817\n",
      "\n",
      "Number of columns in Title Ratings table: 3\n",
      "Number of rows in Title Ratings table: 993153"
     ]
    }
   ],
   "source": [
    "name_cols = len(name.columns)\n",
    "name_rows = name.count()\n",
    "\n",
    "titles_cols = len(titles.columns)\n",
    "titles_rows = titles.count()\n",
    "\n",
    "principals_cols = len(principals.columns)\n",
    "principals_rows = principals.count()\n",
    "\n",
    "ratings_cols = len(ratings.columns)\n",
    "ratings_rows = ratings.count()\n",
    "\n",
    "print(f\"Number of columns in Name Basics table: {name_cols}\")\n",
    "print(f\"Number of rows in Name Basics table: {name_rows}\\n\")\n",
    "\n",
    "print(f\"Number of columns in Title Basics table: {titles_cols}\")\n",
    "print(f\"Number of rows in Title Basics table: {titles_rows}\\n\")\n",
    "\n",
    "print(f\"Number of columns in Title Principals table: {principals_cols}\")\n",
    "print(f\"Number of rows in Title Principals table: {principals_rows}\\n\")\n",
    "\n",
    "print(f\"Number of columns in Title Ratings table: {ratings_cols}\")\n",
    "print(f\"Number of rows in Title Ratings table: {ratings_rows}\")"
   ]
  },
  {
   "cell_type": "markdown",
   "id": "b45c87a7",
   "metadata": {},
   "source": [
    "# PART 2 - Analyzing Genres"
   ]
  },
  {
   "cell_type": "markdown",
   "id": "37c839bd",
   "metadata": {},
   "source": [
    "To determine the number of unique genres represented in this dataset, I'll examine the genres per movie, which are listed as a list. This setup allows for a quick overview of the genres each movie falls under, but it poses challenges when trying to answer questions such as: \n",
    "\n",
    "* How many movies are categorized as Comedy, for instance?\n",
    "* What are the top 20 most popular genres available?"
   ]
  },
  {
   "cell_type": "markdown",
   "id": "509eb185",
   "metadata": {
    "tags": []
   },
   "source": [
    "## Association Table\n",
    "\n",
    "To \"break out\" the genres from the tconst, we can create an association table by mapping each tconst multiple times to each distinct genre. \n",
    "\n",
    "For instance, given the following:\n",
    "\n",
    "\n",
    "| tconst   | titleType  |genres |\n",
    "|----------|------------|-------|\n",
    "| abcd123  | XXX        |a,b,c  |\n",
    "\n",
    "\n",
    "The desired outcome is to derive a table like:\n",
    "\n",
    "| tconst   |  titleType |genre |\n",
    "|----------|------------|------|\n",
    "| abcd123  | XXX        |a     |\n",
    "| abcd123  | XXX        |b     |\n",
    "| abcd123  | XXX        |c     |\n",
    "\n",
    "\n",
    "This table facilitates various analyses, such as rollups, to answer questions asked above.\n",
    "\n",
    "Implementing the code necessary to derive the table described from the dataset"
   ]
  },
  {
   "cell_type": "code",
   "execution_count": 15,
   "id": "6da24c15",
   "metadata": {
    "execution": {
     "iopub.execute_input": "2023-12-06T17:01:32.503914Z",
     "iopub.status.busy": "2023-12-06T17:01:32.503618Z",
     "iopub.status.idle": "2023-12-06T17:01:41.817296Z",
     "shell.execute_reply": "2023-12-06T17:01:41.816313Z",
     "shell.execute_reply.started": "2023-12-06T17:01:32.503880Z"
    },
    "tags": []
   },
   "outputs": [
    {
     "data": {
      "application/vnd.jupyter.widget-view+json": {
       "model_id": "bfdce2969b5544e299da2a93c10c9c20",
       "version_major": 2,
       "version_minor": 0
      },
      "text/plain": [
       "VBox()"
      ]
     },
     "metadata": {},
     "output_type": "display_data"
    },
    {
     "data": {
      "application/vnd.jupyter.widget-view+json": {
       "model_id": "",
       "version_major": 2,
       "version_minor": 0
      },
      "text/plain": [
       "FloatProgress(value=0.0, bar_style='info', description='Progress:', layout=Layout(height='25px', width='50%'),…"
      ]
     },
     "metadata": {},
     "output_type": "display_data"
    },
    {
     "name": "stdout",
     "output_type": "stream",
     "text": [
      "+---------+---------+--------------------+\n",
      "|   tconst|titleType|              genres|\n",
      "+---------+---------+--------------------+\n",
      "|tt0000001|    short|   Documentary,Short|\n",
      "|tt0000002|    short|     Animation,Short|\n",
      "|tt0000003|    short|Animation,Comedy,...|\n",
      "|tt0000004|    short|     Animation,Short|\n",
      "|tt0000005|    short|        Comedy,Short|\n",
      "+---------+---------+--------------------+\n",
      "only showing top 5 rows"
     ]
    }
   ],
   "source": [
    "titles.select(\"tconst\", \"titleType\", \"genres\").show(5)"
   ]
  },
  {
   "cell_type": "markdown",
   "id": "7e215c7e",
   "metadata": {},
   "source": [
    "Displaying the first 10 rows of the association table:"
   ]
  },
  {
   "cell_type": "code",
   "execution_count": 16,
   "id": "eee1cc98",
   "metadata": {
    "execution": {
     "iopub.execute_input": "2023-12-06T17:01:52.760757Z",
     "iopub.status.busy": "2023-12-06T17:01:52.760542Z",
     "iopub.status.idle": "2023-12-06T17:01:53.528869Z",
     "shell.execute_reply": "2023-12-06T17:01:53.528227Z",
     "shell.execute_reply.started": "2023-12-06T17:01:52.760734Z"
    },
    "tags": []
   },
   "outputs": [
    {
     "data": {
      "application/vnd.jupyter.widget-view+json": {
       "model_id": "d1c7f2c555ba492c8ff968238f819042",
       "version_major": 2,
       "version_minor": 0
      },
      "text/plain": [
       "VBox()"
      ]
     },
     "metadata": {},
     "output_type": "display_data"
    },
    {
     "data": {
      "application/vnd.jupyter.widget-view+json": {
       "model_id": "",
       "version_major": 2,
       "version_minor": 0
      },
      "text/plain": [
       "FloatProgress(value=0.0, bar_style='info', description='Progress:', layout=Layout(height='25px', width='50%'),…"
      ]
     },
     "metadata": {},
     "output_type": "display_data"
    },
    {
     "name": "stdout",
     "output_type": "stream",
     "text": [
      "+---------+---------+-----------+\n",
      "|   tconst|titleType|     genres|\n",
      "+---------+---------+-----------+\n",
      "|tt0000001|    short|Documentary|\n",
      "|tt0000001|    short|      Short|\n",
      "|tt0000002|    short|  Animation|\n",
      "|tt0000002|    short|      Short|\n",
      "|tt0000003|    short|  Animation|\n",
      "|tt0000003|    short|     Comedy|\n",
      "|tt0000003|    short|    Romance|\n",
      "|tt0000004|    short|  Animation|\n",
      "|tt0000004|    short|      Short|\n",
      "|tt0000005|    short|     Comedy|\n",
      "+---------+---------+-----------+\n",
      "only showing top 10 rows"
     ]
    }
   ],
   "source": [
    "from pyspark.sql.functions import split, explode\n",
    "association_table = titles.select(\"tconst\", \"titleType\", explode(split(titles[\"genres\"], \",\")) \\\n",
    "                                .alias(\"genres\"))\n",
    "association_table.show(10)"
   ]
  },
  {
   "cell_type": "markdown",
   "id": "9a80280d",
   "metadata": {},
   "source": [
    "## Total Unique Genres"
   ]
  },
  {
   "cell_type": "markdown",
   "id": "b0db9e0c",
   "metadata": {},
   "source": [
    "**What is the total number of unique genres available in the movie title type?**"
   ]
  },
  {
   "cell_type": "code",
   "execution_count": 17,
   "id": "c6044252",
   "metadata": {
    "execution": {
     "iopub.execute_input": "2023-12-06T17:02:26.728935Z",
     "iopub.status.busy": "2023-12-06T17:02:26.728724Z",
     "iopub.status.idle": "2023-12-06T17:02:36.030852Z",
     "shell.execute_reply": "2023-12-06T17:02:36.030239Z",
     "shell.execute_reply.started": "2023-12-06T17:02:26.728912Z"
    },
    "tags": []
   },
   "outputs": [
    {
     "data": {
      "application/vnd.jupyter.widget-view+json": {
       "model_id": "a20dce2a536f483c9a396a1bca28ec19",
       "version_major": 2,
       "version_minor": 0
      },
      "text/plain": [
       "VBox()"
      ]
     },
     "metadata": {},
     "output_type": "display_data"
    },
    {
     "data": {
      "application/vnd.jupyter.widget-view+json": {
       "model_id": "",
       "version_major": 2,
       "version_minor": 0
      },
      "text/plain": [
       "FloatProgress(value=0.0, bar_style='info', description='Progress:', layout=Layout(height='25px', width='50%'),…"
      ]
     },
     "metadata": {},
     "output_type": "display_data"
    },
    {
     "name": "stdout",
     "output_type": "stream",
     "text": [
      "29"
     ]
    }
   ],
   "source": [
    "movies = titles.filter(col(\"titleType\") == \"movie\")\n",
    "unique_genres = movies.select(explode(split(col(\"genres\"), \",\")) \\\n",
    "                                .alias(\"genres\")).distinct()\n",
    "total_unique_genres = unique_genres.count()\n",
    "total_unique_genres"
   ]
  },
  {
   "cell_type": "markdown",
   "id": "5819adcc",
   "metadata": {},
   "source": [
    "**What are the unique genres available?**"
   ]
  },
  {
   "cell_type": "code",
   "execution_count": 18,
   "id": "2ecdf3ad",
   "metadata": {
    "execution": {
     "iopub.execute_input": "2023-12-06T17:02:42.349893Z",
     "iopub.status.busy": "2023-12-06T17:02:42.349676Z",
     "iopub.status.idle": "2023-12-06T17:02:55.680788Z",
     "shell.execute_reply": "2023-12-06T17:02:55.680028Z",
     "shell.execute_reply.started": "2023-12-06T17:02:42.349871Z"
    },
    "tags": []
   },
   "outputs": [
    {
     "data": {
      "application/vnd.jupyter.widget-view+json": {
       "model_id": "3b310b8707a049c6854b0530ff0a9c50",
       "version_major": 2,
       "version_minor": 0
      },
      "text/plain": [
       "VBox()"
      ]
     },
     "metadata": {},
     "output_type": "display_data"
    },
    {
     "data": {
      "application/vnd.jupyter.widget-view+json": {
       "model_id": "",
       "version_major": 2,
       "version_minor": 0
      },
      "text/plain": [
       "FloatProgress(value=0.0, bar_style='info', description='Progress:', layout=Layout(height='25px', width='50%'),…"
      ]
     },
     "metadata": {},
     "output_type": "display_data"
    },
    {
     "name": "stdout",
     "output_type": "stream",
     "text": [
      "+-----------+\n",
      "|genres     |\n",
      "+-----------+\n",
      "|Mystery    |\n",
      "|Musical    |\n",
      "|Sport      |\n",
      "|Action     |\n",
      "|Talk-Show  |\n",
      "|Romance    |\n",
      "|Thriller   |\n",
      "|\\N         |\n",
      "|Reality-TV |\n",
      "|Family     |\n",
      "|Fantasy    |\n",
      "|History    |\n",
      "|Animation  |\n",
      "|Film-Noir  |\n",
      "|Short      |\n",
      "|Sci-Fi     |\n",
      "|News       |\n",
      "|Drama      |\n",
      "|Documentary|\n",
      "|Western    |\n",
      "|Comedy     |\n",
      "|Crime      |\n",
      "|War        |\n",
      "|Game-Show  |\n",
      "|Adult      |\n",
      "|Music      |\n",
      "|Biography  |\n",
      "|Adventure  |\n",
      "|Horror     |\n",
      "+-----------+"
     ]
    }
   ],
   "source": [
    "unique_genres.show(unique_genres.count(), truncate=False)"
   ]
  },
  {
   "cell_type": "markdown",
   "id": "4c5f3022",
   "metadata": {},
   "source": [
    "**Remove \"\\N\" from above table**"
   ]
  },
  {
   "cell_type": "code",
   "execution_count": 19,
   "id": "e699b5ae",
   "metadata": {
    "execution": {
     "iopub.execute_input": "2023-12-06T17:03:00.057274Z",
     "iopub.status.busy": "2023-12-06T17:03:00.057048Z",
     "iopub.status.idle": "2023-12-06T17:03:13.383488Z",
     "shell.execute_reply": "2023-12-06T17:03:13.382751Z",
     "shell.execute_reply.started": "2023-12-06T17:03:00.057249Z"
    },
    "tags": []
   },
   "outputs": [
    {
     "data": {
      "application/vnd.jupyter.widget-view+json": {
       "model_id": "7779dae32dc6441c9094427d0e09b81e",
       "version_major": 2,
       "version_minor": 0
      },
      "text/plain": [
       "VBox()"
      ]
     },
     "metadata": {},
     "output_type": "display_data"
    },
    {
     "data": {
      "application/vnd.jupyter.widget-view+json": {
       "model_id": "",
       "version_major": 2,
       "version_minor": 0
      },
      "text/plain": [
       "FloatProgress(value=0.0, bar_style='info', description='Progress:', layout=Layout(height='25px', width='50%'),…"
      ]
     },
     "metadata": {},
     "output_type": "display_data"
    },
    {
     "name": "stdout",
     "output_type": "stream",
     "text": [
      "+-----------+\n",
      "|genres     |\n",
      "+-----------+\n",
      "|Mystery    |\n",
      "|Musical    |\n",
      "|Sport      |\n",
      "|Action     |\n",
      "|Talk-Show  |\n",
      "|Romance    |\n",
      "|Thriller   |\n",
      "|Reality-TV |\n",
      "|Family     |\n",
      "|Fantasy    |\n",
      "|History    |\n",
      "|Animation  |\n",
      "|Film-Noir  |\n",
      "|Short      |\n",
      "|Sci-Fi     |\n",
      "|News       |\n",
      "|Drama      |\n",
      "|Documentary|\n",
      "|Western    |\n",
      "|Comedy     |\n",
      "|Crime      |\n",
      "|War        |\n",
      "|Game-Show  |\n",
      "|Adult      |\n",
      "|Music      |\n",
      "|Biography  |\n",
      "|Adventure  |\n",
      "|Horror     |\n",
      "+-----------+"
     ]
    }
   ],
   "source": [
    "unique_genres = movies.select(explode(split(col(\"genres\"), \",\")) \\\n",
    "                                .alias(\"genres\")) \\\n",
    "                        .filter(col(\"genres\") != \"\\\\N\") \\\n",
    "                        .distinct()\n",
    "\n",
    "unique_genres.show(unique_genres.count(), truncate=False)"
   ]
  },
  {
   "cell_type": "markdown",
   "id": "b7d29ebd",
   "metadata": {},
   "source": [
    "## Top Genres by Movies\n",
    "\n",
    "Finding the highest rated genres in this dataset by rolling up genres."
   ]
  },
  {
   "cell_type": "markdown",
   "id": "de4c28e3",
   "metadata": {},
   "source": [
    "### Average Rating / Genre"
   ]
  },
  {
   "cell_type": "markdown",
   "id": "49f1153c",
   "metadata": {},
   "source": [
    "Now, unroll the distinct count and display the average rating value per genre.\n",
    "\n",
    "The expected output should be:\n",
    "\n",
    "| genre | averageRating |\n",
    "|-------------|------------|\n",
    "| a     | 8.5         |\n",
    "| b     | 6.3         |\n",
    "| c     | 7.2         |\n"
   ]
  },
  {
   "cell_type": "markdown",
   "id": "15423dc6",
   "metadata": {},
   "source": [
    "First, joining the two dataframes (movie ratings and genres) by tconst."
   ]
  },
  {
   "cell_type": "code",
   "execution_count": 20,
   "id": "71b5d21b",
   "metadata": {
    "execution": {
     "iopub.execute_input": "2023-12-06T17:03:37.964294Z",
     "iopub.status.busy": "2023-12-06T17:03:37.964051Z",
     "iopub.status.idle": "2023-12-06T17:03:47.271982Z",
     "shell.execute_reply": "2023-12-06T17:03:47.271233Z",
     "shell.execute_reply.started": "2023-12-06T17:03:37.964260Z"
    },
    "tags": []
   },
   "outputs": [
    {
     "data": {
      "application/vnd.jupyter.widget-view+json": {
       "model_id": "de623f4b85d044ad8176bed3f183d6d4",
       "version_major": 2,
       "version_minor": 0
      },
      "text/plain": [
       "VBox()"
      ]
     },
     "metadata": {},
     "output_type": "display_data"
    },
    {
     "data": {
      "application/vnd.jupyter.widget-view+json": {
       "model_id": "",
       "version_major": 2,
       "version_minor": 0
      },
      "text/plain": [
       "FloatProgress(value=0.0, bar_style='info', description='Progress:', layout=Layout(height='25px', width='50%'),…"
      ]
     },
     "metadata": {},
     "output_type": "display_data"
    },
    {
     "name": "stdout",
     "output_type": "stream",
     "text": [
      "+---------+-------------+\n",
      "|    genre|averageRating|\n",
      "+---------+-------------+\n",
      "|    Drama|          4.2|\n",
      "|    Drama|          4.2|\n",
      "|Biography|          4.1|\n",
      "|    Drama|          4.1|\n",
      "|  History|          4.1|\n",
      "|    Drama|          5.7|\n",
      "|    Drama|          4.6|\n",
      "|  History|          4.6|\n",
      "|Biography|          6.3|\n",
      "|    Drama|          6.3|\n",
      "+---------+-------------+\n",
      "only showing top 10 rows"
     ]
    }
   ],
   "source": [
    "joined_df = ratings.join(titles, on='tconst')\n",
    "\n",
    "nll = '\\\\N'\n",
    "\n",
    "avgRating_genres = joined_df.withColumn('genre', explode(split('genres', ','))) \\\n",
    "    .filter(col('titleType') == 'movie') \\\n",
    "    .filter(col('genre') != nll) \\\n",
    "    .select('genre', col('averageRating').cast('float'))\n",
    "\n",
    "avgRating_genres.show(10)"
   ]
  },
  {
   "cell_type": "markdown",
   "id": "98094ca8",
   "metadata": {},
   "source": [
    "Now, aggregating along the averageRating column to get a resultant dataframe that displays average rating per genre."
   ]
  },
  {
   "cell_type": "code",
   "execution_count": 21,
   "id": "317c522c",
   "metadata": {
    "execution": {
     "iopub.execute_input": "2023-12-06T17:04:03.076973Z",
     "iopub.status.busy": "2023-12-06T17:04:03.076748Z",
     "iopub.status.idle": "2023-12-06T17:04:12.384643Z",
     "shell.execute_reply": "2023-12-06T17:04:12.383991Z",
     "shell.execute_reply.started": "2023-12-06T17:04:03.076949Z"
    },
    "tags": []
   },
   "outputs": [
    {
     "data": {
      "application/vnd.jupyter.widget-view+json": {
       "model_id": "3c3385243f224bcb9abfa4426e87bd0a",
       "version_major": 2,
       "version_minor": 0
      },
      "text/plain": [
       "VBox()"
      ]
     },
     "metadata": {},
     "output_type": "display_data"
    },
    {
     "data": {
      "application/vnd.jupyter.widget-view+json": {
       "model_id": "",
       "version_major": 2,
       "version_minor": 0
      },
      "text/plain": [
       "FloatProgress(value=0.0, bar_style='info', description='Progress:', layout=Layout(height='25px', width='50%'),…"
      ]
     },
     "metadata": {},
     "output_type": "display_data"
    },
    {
     "name": "stdout",
     "output_type": "stream",
     "text": [
      "+-----------+-----------------+\n",
      "|genre      |avg_rating       |\n",
      "+-----------+-----------------+\n",
      "|Mystery    |5.940437537126316|\n",
      "|Musical    |6.203246053185319|\n",
      "|Action     |5.718734067904495|\n",
      "|Sport      |6.600145190943391|\n",
      "|Romance    |6.125714179294426|\n",
      "|Thriller   |5.625967567519544|\n",
      "|Family     |6.250560452699635|\n",
      "|Fantasy    |5.924820762891499|\n",
      "|History    |6.822718117193864|\n",
      "|Animation  |6.326203749467441|\n",
      "|Film-Noir  |6.636246780503378|\n",
      "|Sci-Fi     |5.325150006900168|\n",
      "|News       |7.200916040944689|\n",
      "|Drama      |6.288080211097538|\n",
      "|Documentary|7.245469805371099|\n",
      "|Western    |5.948970991005059|\n",
      "|Comedy     |5.941363107822231|\n",
      "|Crime      |6.026013333109149|\n",
      "|War        |6.483807036278403|\n",
      "|Adult      |5.721742579082059|\n",
      "+-----------+-----------------+\n",
      "only showing top 20 rows"
     ]
    }
   ],
   "source": [
    "from pyspark.sql.functions import round, avg\n",
    "joined_df = ratings.join(movies, ['tconst'], 'inner')\n",
    "nll = '\\\\N'\n",
    "new_avgRating_genres = avgRating_genres.groupBy('genre').agg(round(avg('averageRating'),15).alias('avg_rating'))\n",
    "new_avgRating_genres.show(20, truncate=False)"
   ]
  },
  {
   "cell_type": "markdown",
   "id": "b1fd4e61",
   "metadata": {
    "tags": []
   },
   "source": [
    "### Horizontal Bar Chart of Top Genres\n",
    "\n",
    "With this data available, building a bar chart of all genres by utilizing the matplotlib magic with %matplot plt.\n"
   ]
  },
  {
   "cell_type": "code",
   "execution_count": 22,
   "id": "2865ccdb",
   "metadata": {
    "execution": {
     "iopub.execute_input": "2023-12-06T17:04:24.342699Z",
     "iopub.status.busy": "2023-12-06T17:04:24.342471Z",
     "iopub.status.idle": "2023-12-06T17:04:33.657409Z",
     "shell.execute_reply": "2023-12-06T17:04:33.656650Z",
     "shell.execute_reply.started": "2023-12-06T17:04:24.342675Z"
    },
    "tags": []
   },
   "outputs": [
    {
     "data": {
      "application/vnd.jupyter.widget-view+json": {
       "model_id": "77b5baf0ab3344f89744b5648dc6f24f",
       "version_major": 2,
       "version_minor": 0
      },
      "text/plain": [
       "VBox()"
      ]
     },
     "metadata": {},
     "output_type": "display_data"
    },
    {
     "data": {
      "application/vnd.jupyter.widget-view+json": {
       "model_id": "",
       "version_major": 2,
       "version_minor": 0
      },
      "text/plain": [
       "FloatProgress(value=0.0, bar_style='info', description='Progress:', layout=Layout(height='25px', width='50%'),…"
      ]
     },
     "metadata": {},
     "output_type": "display_data"
    },
    {
     "name": "stdout",
     "output_type": "stream",
     "text": [
      "+-----------+-----------------+\n",
      "|genre      |avg_rating       |\n",
      "+-----------+-----------------+\n",
      "|Short      |7.259999942779541|\n",
      "|Documentary|7.245469805371099|\n",
      "|News       |7.200916040944689|\n",
      "|Biography  |6.983637643044585|\n",
      "|Game-Show  |6.974999904632568|\n",
      "|History    |6.822718117193864|\n",
      "|Music      |6.752020207214588|\n",
      "|Film-Noir  |6.636246780503378|\n",
      "|Sport      |6.600145190943391|\n",
      "|War        |6.483807036278403|\n",
      "|Reality-TV |6.379310377712907|\n",
      "|Animation  |6.326203749467441|\n",
      "|Drama      |6.288080211097538|\n",
      "|Family     |6.250560452699635|\n",
      "|Musical    |6.203246053185319|\n",
      "|Romance    |6.125714179294426|\n",
      "|Crime      |6.026013333109149|\n",
      "|Western    |5.948970991005059|\n",
      "|Comedy     |5.941363107822231|\n",
      "|Mystery    |5.940437537126316|\n",
      "+-----------+-----------------+\n",
      "only showing top 20 rows"
     ]
    }
   ],
   "source": [
    "new_avgRating_genres_desc = new_avgRating_genres.orderBy('avg_rating', ascending=False).show(20, truncate=False)"
   ]
  },
  {
   "cell_type": "code",
   "execution_count": 23,
   "id": "4a868d3d",
   "metadata": {
    "execution": {
     "iopub.execute_input": "2023-12-06T17:04:48.176627Z",
     "iopub.status.busy": "2023-12-06T17:04:48.176413Z",
     "iopub.status.idle": "2023-12-06T17:05:15.569049Z",
     "shell.execute_reply": "2023-12-06T17:05:15.568235Z",
     "shell.execute_reply.started": "2023-12-06T17:04:48.176605Z"
    },
    "tags": []
   },
   "outputs": [
    {
     "data": {
      "application/vnd.jupyter.widget-view+json": {
       "model_id": "f34d8f389f2f4d7bbfc414e72c470329",
       "version_major": 2,
       "version_minor": 0
      },
      "text/plain": [
       "VBox()"
      ]
     },
     "metadata": {},
     "output_type": "display_data"
    },
    {
     "data": {
      "application/vnd.jupyter.widget-view+json": {
       "model_id": "",
       "version_major": 2,
       "version_minor": 0
      },
      "text/plain": [
       "FloatProgress(value=0.0, bar_style='info', description='Progress:', layout=Layout(height='25px', width='50%'),…"
      ]
     },
     "metadata": {},
     "output_type": "display_data"
    },
    {
     "data": {
      "image/png": "[encoded data removed]",
      "text/plain": [
       "<IPython.core.display.Image object>"
      ]
     },
     "metadata": {},
     "output_type": "display_data"
    }
   ],
   "source": [
    "import numpy as np\n",
    "\n",
    "new_avgRating_genres_ascend = new_avgRating_genres.orderBy('avg_rating')\n",
    "genre_names = new_avgRating_genres_ascend.select('genre').rdd.flatMap(lambda x: x).collect()\n",
    "avg_ratings = new_avgRating_genres_ascend.select('avg_rating').rdd.flatMap(lambda x: x).collect()\n",
    "\n",
    "\n",
    "plt.figure(figsize=(10, 7))  \n",
    "plt.barh(genre_names, avg_ratings, color='#8e27d9', height=0.5)\n",
    "plt.xlabel('Average Rating')\n",
    "plt.ylabel('Genre')\n",
    "plt.title('Top Genres in the Movie Category')\n",
    "\n",
    "\n",
    "plt.xlim(5.0, 7.5)\n",
    "plt.xticks([5.0, 5.5, 6.0, 6.5, 7.0, 7.5])\n",
    "\n",
    "plt.tight_layout()\n",
    "\n",
    "plt.legend(['avg_rating'])\n",
    "\n",
    "%matplot plt"
   ]
  },
  {
   "cell_type": "markdown",
   "id": "3671c612",
   "metadata": {},
   "source": [
    "## PART 3 - Analyzing Job Categories"
   ]
  },
  {
   "cell_type": "markdown",
   "id": "2912a0ba",
   "metadata": {},
   "source": [
    "## Total Unique Job Categories"
   ]
  },
  {
   "cell_type": "markdown",
   "id": "099531c0",
   "metadata": {},
   "source": [
    "**What is the total number of unique job categories?**"
   ]
  },
  {
   "cell_type": "code",
   "execution_count": 24,
   "id": "bf5ea336",
   "metadata": {
    "execution": {
     "iopub.execute_input": "2023-12-06T17:06:00.549061Z",
     "iopub.status.busy": "2023-12-06T17:06:00.548765Z",
     "iopub.status.idle": "2023-12-06T17:06:00.820573Z",
     "shell.execute_reply": "2023-12-06T17:06:00.819665Z",
     "shell.execute_reply.started": "2023-12-06T17:06:00.549027Z"
    },
    "tags": []
   },
   "outputs": [
    {
     "data": {
      "application/vnd.jupyter.widget-view+json": {
       "model_id": "8000d90b39e240309e20cd1761e1d902",
       "version_major": 2,
       "version_minor": 0
      },
      "text/plain": [
       "VBox()"
      ]
     },
     "metadata": {},
     "output_type": "display_data"
    },
    {
     "data": {
      "application/vnd.jupyter.widget-view+json": {
       "model_id": "",
       "version_major": 2,
       "version_minor": 0
      },
      "text/plain": [
       "FloatProgress(value=0.0, bar_style='info', description='Progress:', layout=Layout(height='25px', width='50%'),…"
      ]
     },
     "metadata": {},
     "output_type": "display_data"
    },
    {
     "name": "stdout",
     "output_type": "stream",
     "text": [
      "+---------+---------------+\n",
      "|   tconst|       category|\n",
      "+---------+---------------+\n",
      "|tt0000001|           self|\n",
      "|tt0000001|       director|\n",
      "|tt0000001|cinematographer|\n",
      "|tt0000002|       director|\n",
      "|tt0000002|       composer|\n",
      "+---------+---------------+\n",
      "only showing top 5 rows"
     ]
    }
   ],
   "source": [
    "principals.select(\"tconst\", \"category\").show(5)"
   ]
  },
  {
   "cell_type": "code",
   "execution_count": 25,
   "id": "44203333",
   "metadata": {
    "execution": {
     "iopub.execute_input": "2023-12-06T17:06:03.191843Z",
     "iopub.status.busy": "2023-12-06T17:06:03.191619Z",
     "iopub.status.idle": "2023-12-06T17:06:28.548532Z",
     "shell.execute_reply": "2023-12-06T17:06:28.547909Z",
     "shell.execute_reply.started": "2023-12-06T17:06:03.191819Z"
    },
    "tags": []
   },
   "outputs": [
    {
     "data": {
      "application/vnd.jupyter.widget-view+json": {
       "model_id": "e77bc5a0b302493398c4177595eceecf",
       "version_major": 2,
       "version_minor": 0
      },
      "text/plain": [
       "VBox()"
      ]
     },
     "metadata": {},
     "output_type": "display_data"
    },
    {
     "data": {
      "application/vnd.jupyter.widget-view+json": {
       "model_id": "",
       "version_major": 2,
       "version_minor": 0
      },
      "text/plain": [
       "FloatProgress(value=0.0, bar_style='info', description='Progress:', layout=Layout(height='25px', width='50%'),…"
      ]
     },
     "metadata": {},
     "output_type": "display_data"
    },
    {
     "name": "stdout",
     "output_type": "stream",
     "text": [
      "12"
     ]
    }
   ],
   "source": [
    "principals.select(\"category\").distinct().count()"
   ]
  },
  {
   "cell_type": "markdown",
   "id": "c3b2f7b4",
   "metadata": {},
   "source": [
    "**What are the unique job categories available?**"
   ]
  },
  {
   "cell_type": "code",
   "execution_count": 26,
   "id": "e03438b0",
   "metadata": {
    "execution": {
     "iopub.execute_input": "2023-12-06T17:06:28.549771Z",
     "iopub.status.busy": "2023-12-06T17:06:28.549582Z",
     "iopub.status.idle": "2023-12-06T17:06:53.899660Z",
     "shell.execute_reply": "2023-12-06T17:06:53.899018Z",
     "shell.execute_reply.started": "2023-12-06T17:06:28.549749Z"
    },
    "tags": []
   },
   "outputs": [
    {
     "data": {
      "application/vnd.jupyter.widget-view+json": {
       "model_id": "33112e42a0ec4a4b83346284ed0215b6",
       "version_major": 2,
       "version_minor": 0
      },
      "text/plain": [
       "VBox()"
      ]
     },
     "metadata": {},
     "output_type": "display_data"
    },
    {
     "data": {
      "application/vnd.jupyter.widget-view+json": {
       "model_id": "",
       "version_major": 2,
       "version_minor": 0
      },
      "text/plain": [
       "FloatProgress(value=0.0, bar_style='info', description='Progress:', layout=Layout(height='25px', width='50%'),…"
      ]
     },
     "metadata": {},
     "output_type": "display_data"
    },
    {
     "name": "stdout",
     "output_type": "stream",
     "text": [
      "+-------------------+\n",
      "|category           |\n",
      "+-------------------+\n",
      "|actress            |\n",
      "|producer           |\n",
      "|production_designer|\n",
      "|writer             |\n",
      "|actor              |\n",
      "|cinematographer    |\n",
      "|archive_sound      |\n",
      "|archive_footage    |\n",
      "|self               |\n",
      "|editor             |\n",
      "|composer           |\n",
      "|director           |\n",
      "+-------------------+"
     ]
    }
   ],
   "source": [
    "principals.select(\"category\").distinct().show(truncate=False)"
   ]
  },
  {
   "cell_type": "markdown",
   "id": "47312540",
   "metadata": {},
   "source": [
    "## Top Job Categories"
   ]
  },
  {
   "cell_type": "markdown",
   "id": "61df21f0",
   "metadata": {},
   "source": [
    "Now finding the top job categories in this dataset by rolling up categories."
   ]
  },
  {
   "cell_type": "markdown",
   "id": "2d56869a",
   "metadata": {},
   "source": [
    "### Counts of Titles / Job Category"
   ]
  },
  {
   "cell_type": "markdown",
   "id": "ae87af2f",
   "metadata": {},
   "source": [
    "The expected output should be:\n",
    "\n",
    "| category | count |\n",
    "|-------------|------------|\n",
    "| a     | 15         |\n",
    "| b     | 2          |\n",
    "| c     | 45          |\n"
   ]
  },
  {
   "cell_type": "code",
   "execution_count": 27,
   "id": "f3d65964",
   "metadata": {
    "execution": {
     "iopub.execute_input": "2023-12-06T17:07:04.535782Z",
     "iopub.status.busy": "2023-12-06T17:07:04.535569Z",
     "iopub.status.idle": "2023-12-06T17:07:31.960016Z",
     "shell.execute_reply": "2023-12-06T17:07:31.924846Z",
     "shell.execute_reply.started": "2023-12-06T17:07:04.535761Z"
    },
    "tags": []
   },
   "outputs": [
    {
     "data": {
      "application/vnd.jupyter.widget-view+json": {
       "model_id": "a44bfebb45194eb2a762a0ae0434fc10",
       "version_major": 2,
       "version_minor": 0
      },
      "text/plain": [
       "VBox()"
      ]
     },
     "metadata": {},
     "output_type": "display_data"
    },
    {
     "data": {
      "application/vnd.jupyter.widget-view+json": {
       "model_id": "",
       "version_major": 2,
       "version_minor": 0
      },
      "text/plain": [
       "FloatProgress(value=0.0, bar_style='info', description='Progress:', layout=Layout(height='25px', width='50%'),…"
      ]
     },
     "metadata": {},
     "output_type": "display_data"
    },
    {
     "name": "stdout",
     "output_type": "stream",
     "text": [
      "+-------------------+-------+\n",
      "|category           |count  |\n",
      "+-------------------+-------+\n",
      "|actress            |6325097|\n",
      "|producer           |2197866|\n",
      "|production_designer|285924 |\n",
      "|writer             |4811596|\n",
      "|actor              |8493701|\n",
      "|cinematographer    |1300404|\n",
      "|archive_sound      |2143   |\n",
      "|archive_footage    |209035 |\n",
      "|self               |6153089|\n",
      "|editor             |1197669|\n",
      "|composer           |1313187|\n",
      "|director           |4179106|\n",
      "+-------------------+-------+"
     ]
    }
   ],
   "source": [
    "category_counts = principals.groupBy(\"category\").count()\n",
    "\n",
    "category_counts.show(truncate=False)"
   ]
  },
  {
   "cell_type": "markdown",
   "id": "f8671889",
   "metadata": {},
   "source": [
    "### Bar Chart of Top Job Categories\n",
    "\n",
    "With this data available, constructing a bar chart of the top 5 categories by utilizing the matplotlib magic with %matplot plt."
   ]
  },
  {
   "cell_type": "code",
   "execution_count": 28,
   "id": "3c73edf1",
   "metadata": {
    "execution": {
     "iopub.execute_input": "2023-12-06T17:07:58.804591Z",
     "iopub.status.busy": "2023-12-06T17:07:58.804347Z",
     "iopub.status.idle": "2023-12-06T17:08:24.158646Z",
     "shell.execute_reply": "2023-12-06T17:08:24.157970Z",
     "shell.execute_reply.started": "2023-12-06T17:07:58.804567Z"
    },
    "tags": []
   },
   "outputs": [
    {
     "data": {
      "application/vnd.jupyter.widget-view+json": {
       "model_id": "331e476f1c514369acab4e44a8fe49af",
       "version_major": 2,
       "version_minor": 0
      },
      "text/plain": [
       "VBox()"
      ]
     },
     "metadata": {},
     "output_type": "display_data"
    },
    {
     "data": {
      "application/vnd.jupyter.widget-view+json": {
       "model_id": "",
       "version_major": 2,
       "version_minor": 0
      },
      "text/plain": [
       "FloatProgress(value=0.0, bar_style='info', description='Progress:', layout=Layout(height='25px', width='50%'),…"
      ]
     },
     "metadata": {},
     "output_type": "display_data"
    },
    {
     "name": "stdout",
     "output_type": "stream",
     "text": [
      "+-------------------+-------+\n",
      "|category           |count  |\n",
      "+-------------------+-------+\n",
      "|actor              |8493701|\n",
      "|actress            |6325097|\n",
      "|self               |6153089|\n",
      "|writer             |4811596|\n",
      "|director           |4179106|\n",
      "|producer           |2197866|\n",
      "|composer           |1313187|\n",
      "|cinematographer    |1300404|\n",
      "|editor             |1197669|\n",
      "|production_designer|285924 |\n",
      "|archive_footage    |209035 |\n",
      "|archive_sound      |2143   |\n",
      "+-------------------+-------+"
     ]
    }
   ],
   "source": [
    "category_counts = principals.groupBy(\"category\").count().orderBy(\"count\", ascending=False)\n",
    "category_counts.show(truncate=False)"
   ]
  },
  {
   "cell_type": "code",
   "execution_count": 29,
   "id": "eb4608e8-96d1-45d2-9d30-f53b5cd12688",
   "metadata": {
    "execution": {
     "iopub.execute_input": "2023-12-06T17:08:45.619039Z",
     "iopub.status.busy": "2023-12-06T17:08:45.618806Z",
     "iopub.status.idle": "2023-12-06T17:09:10.958972Z",
     "shell.execute_reply": "2023-12-06T17:09:10.958240Z",
     "shell.execute_reply.started": "2023-12-06T17:08:45.619013Z"
    },
    "tags": []
   },
   "outputs": [
    {
     "data": {
      "application/vnd.jupyter.widget-view+json": {
       "model_id": "f54a61c4da7046b59a09cf9e11dd21c8",
       "version_major": 2,
       "version_minor": 0
      },
      "text/plain": [
       "VBox()"
      ]
     },
     "metadata": {},
     "output_type": "display_data"
    },
    {
     "data": {
      "application/vnd.jupyter.widget-view+json": {
       "model_id": "",
       "version_major": 2,
       "version_minor": 0
      },
      "text/plain": [
       "FloatProgress(value=0.0, bar_style='info', description='Progress:', layout=Layout(height='25px', width='50%'),…"
      ]
     },
     "metadata": {},
     "output_type": "display_data"
    },
    {
     "data": {
      "image/png": "[encoded data removed]",
      "text/plain": [
       "<IPython.core.display.Image object>"
      ]
     },
     "metadata": {},
     "output_type": "display_data"
    }
   ],
   "source": [
    "top_5_categories = category_counts.orderBy(\"count\", ascending=False).limit(5).toPandas()\n",
    "\n",
    "plt.figure(figsize=(10, 8))\n",
    "plt.bar(top_5_categories['category'], top_5_categories['count'], color='orange', width=0.5)\n",
    "plt.xlabel('Job Category')\n",
    "plt.ylabel('Count')\n",
    "plt.title('Top Job Categories')\n",
    "plt.xticks(rotation=45)\n",
    "plt.ylim([3000000, 9000000])\n",
    "plt.legend(['count'])\n",
    "\n",
    "%matplot plt\n"
   ]
  },
  {
   "cell_type": "markdown",
   "id": "a4436c54",
   "metadata": {},
   "source": [
    "# PART 4 - Answer to the following questions:"
   ]
  },
  {
   "cell_type": "markdown",
   "id": "17273925",
   "metadata": {
    "tags": []
   },
   "source": [
    "## 1) What are the movies in which both Johnny Depp and Helena Bonham Carter have acted together?"
   ]
  },
  {
   "cell_type": "code",
   "execution_count": 30,
   "id": "2ae9f921-fac6-47d5-b52b-678f2cbeb3c6",
   "metadata": {
    "execution": {
     "iopub.execute_input": "2023-12-06T17:09:29.912689Z",
     "iopub.status.busy": "2023-12-06T17:09:29.912364Z",
     "iopub.status.idle": "2023-12-06T17:10:53.858462Z",
     "shell.execute_reply": "2023-12-06T17:10:53.845836Z",
     "shell.execute_reply.started": "2023-12-06T17:09:29.912651Z"
    },
    "tags": []
   },
   "outputs": [
    {
     "data": {
      "application/vnd.jupyter.widget-view+json": {
       "model_id": "d5a91f38617f4814af2d65a4ed06da92",
       "version_major": 2,
       "version_minor": 0
      },
      "text/plain": [
       "VBox()"
      ]
     },
     "metadata": {},
     "output_type": "display_data"
    },
    {
     "data": {
      "application/vnd.jupyter.widget-view+json": {
       "model_id": "",
       "version_major": 2,
       "version_minor": 0
      },
      "text/plain": [
       "FloatProgress(value=0.0, bar_style='info', description='Progress:', layout=Layout(height='25px', width='50%'),…"
      ]
     },
     "metadata": {},
     "output_type": "display_data"
    },
    {
     "name": "stdout",
     "output_type": "stream",
     "text": [
      "+----------------------------------------------+\n",
      "|primaryTitle                                  |\n",
      "+----------------------------------------------+\n",
      "|Dark Shadows                                  |\n",
      "|Sweeney Todd: The Demon Barber of Fleet Street|\n",
      "|Alice Through the Looking Glass               |\n",
      "|Alice in Wonderland                           |\n",
      "|Corpse Bride                                  |\n",
      "|Charlie and the Chocolate Factory             |\n",
      "+----------------------------------------------+"
     ]
    }
   ],
   "source": [
    "depp_movies = principals.alias(\"p\") \\\n",
    "    .join(name.alias(\"n\"), (col(\"p.nconst\") == col(\"n.nconst\"))) \\\n",
    "    .filter((col(\"n.primaryName\") == \"Johnny Depp\") & (col(\"p.category\") == \"actor\")) \\\n",
    "    .select(\"p.tconst\")\n",
    "\n",
    "carter_movies = principals.alias(\"p\") \\\n",
    "    .join(name.alias(\"n\"), (col(\"p.nconst\") == col(\"n.nconst\"))) \\\n",
    "    .filter((col(\"n.primaryName\") == \"Helena Bonham Carter\") & (col(\"p.category\") == \"actress\")) \\\n",
    "    .select(\"p.tconst\")\n",
    "\n",
    "together_movies = depp_movies.join(carter_movies, \"tconst\", \"inner\") \\\n",
    "    .join(titles, \"tconst\", \"inner\") \\\n",
    "    .select(\"primaryTitle\")\n",
    "\n",
    "together_movies.show(truncate=False)"
   ]
  },
  {
   "cell_type": "markdown",
   "id": "a43ca52f",
   "metadata": {},
   "source": [
    "## 2) What are the movies in which Brad Pitt has acted since 2010?"
   ]
  },
  {
   "cell_type": "code",
   "execution_count": 31,
   "id": "380d9cbf",
   "metadata": {
    "execution": {
     "iopub.execute_input": "2023-12-06T17:11:21.458142Z",
     "iopub.status.busy": "2023-12-06T17:11:21.457921Z",
     "iopub.status.idle": "2023-12-06T17:12:04.852279Z",
     "shell.execute_reply": "2023-12-06T17:12:04.851472Z",
     "shell.execute_reply.started": "2023-12-06T17:11:21.458119Z"
    },
    "tags": []
   },
   "outputs": [
    {
     "data": {
      "application/vnd.jupyter.widget-view+json": {
       "model_id": "92158c9f3d07476c8dba05c37b94d629",
       "version_major": 2,
       "version_minor": 0
      },
      "text/plain": [
       "VBox()"
      ]
     },
     "metadata": {},
     "output_type": "display_data"
    },
    {
     "data": {
      "application/vnd.jupyter.widget-view+json": {
       "model_id": "",
       "version_major": 2,
       "version_minor": 0
      },
      "text/plain": [
       "FloatProgress(value=0.0, bar_style='info', description='Progress:', layout=Layout(height='25px', width='50%'),…"
      ]
     },
     "metadata": {},
     "output_type": "display_data"
    },
    {
     "name": "stdout",
     "output_type": "stream",
     "text": [
      "+---------------------------------+---------+\n",
      "|primaryTitle                     |startYear|\n",
      "+---------------------------------+---------+\n",
      "|By the Sea                       |2015     |\n",
      "|Babylon                          |2021     |\n",
      "|The Big Short                    |2015     |\n",
      "|12 Years a Slave                 |2013     |\n",
      "|The Tree of Life                 |2011     |\n",
      "|Fury                             |2014     |\n",
      "|Moneyball                        |2011     |\n",
      "|Killing Them Softly              |2012     |\n",
      "|Allied                           |2016     |\n",
      "|War Machine                      |2017     |\n",
      "|Ad Astra                         |2019     |\n",
      "|Once Upon a Time ... in Hollywood|2019     |\n",
      "|World War Z                      |2013     |\n",
      "+---------------------------------+---------+"
     ]
    }
   ],
   "source": [
    "join_pt = principals.join(titles, \"tconst\", \"inner\")\n",
    "\n",
    "pitt_movies = join_pt.alias(\"p\") \\\n",
    "    .join(name.alias(\"n\"), (col(\"p.nconst\") == col(\"n.nconst\"))) \\\n",
    "    .filter((col(\"n.primaryName\") == \"Brad Pitt\") & (col(\"p.category\") == \"actor\") & (col(\"p.startYear\") > 2010) & (col(\"titleType\") == \"movie\")) \\\n",
    "    .select(\"p.primaryTitle\", \"p.startYear\")\n",
    "\n",
    "pitt_movies.show(truncate=False)"
   ]
  },
  {
   "cell_type": "markdown",
   "id": "084db6f3",
   "metadata": {},
   "source": [
    "## 3) How many movies has Zendaya acted in each year?"
   ]
  },
  {
   "cell_type": "code",
   "execution_count": 32,
   "id": "0f7d1874",
   "metadata": {
    "execution": {
     "iopub.execute_input": "2023-12-06T17:12:26.474401Z",
     "iopub.status.busy": "2023-12-06T17:12:26.474145Z",
     "iopub.status.idle": "2023-12-06T17:13:09.874605Z",
     "shell.execute_reply": "2023-12-06T17:13:09.873863Z",
     "shell.execute_reply.started": "2023-12-06T17:12:26.474375Z"
    },
    "tags": []
   },
   "outputs": [
    {
     "data": {
      "application/vnd.jupyter.widget-view+json": {
       "model_id": "7d98a1d67c1a4344b5be8f49112f2316",
       "version_major": 2,
       "version_minor": 0
      },
      "text/plain": [
       "VBox()"
      ]
     },
     "metadata": {},
     "output_type": "display_data"
    },
    {
     "data": {
      "application/vnd.jupyter.widget-view+json": {
       "model_id": "",
       "version_major": 2,
       "version_minor": 0
      },
      "text/plain": [
       "FloatProgress(value=0.0, bar_style='info', description='Progress:', layout=Layout(height='25px', width='50%'),…"
      ]
     },
     "metadata": {},
     "output_type": "display_data"
    },
    {
     "name": "stdout",
     "output_type": "stream",
     "text": [
      "+---------+-----+\n",
      "|startYear|count|\n",
      "+---------+-----+\n",
      "|2020     |1    |\n",
      "|2018     |2    |\n",
      "|2017     |1    |\n",
      "+---------+-----+"
     ]
    }
   ],
   "source": [
    "from pyspark.sql.functions import count\n",
    "\n",
    "join_pt = principals.join(titles, \"tconst\", \"inner\")\n",
    "\n",
    "zendaya_movies = join_pt.alias(\"p\") \\\n",
    "    .join(name.alias(\"n\"), col(\"p.nconst\") == col(\"n.nconst\")) \\\n",
    "    .filter((col(\"n.primaryName\") == \"Zendaya\") & (col(\"p.category\") == \"actress\") & (col(\"titleType\") == \"movie\") & (col(\"p.startYear\") != \"\\\\N\"))\n",
    "\n",
    "counted_movies = zendaya_movies.groupBy(\"startYear\").agg(count(\"*\").alias(\"count\"))\n",
    "\n",
    "counted_movies.show(truncate=False)"
   ]
  },
  {
   "cell_type": "markdown",
   "id": "c7ba3bde",
   "metadata": {},
   "source": [
    "## 4) Which movies, released in 2019, have an average rating exceeding 9.7?"
   ]
  },
  {
   "cell_type": "code",
   "execution_count": 33,
   "id": "294883c2",
   "metadata": {
    "execution": {
     "iopub.execute_input": "2023-12-06T17:13:18.064252Z",
     "iopub.status.busy": "2023-12-06T17:13:18.064030Z",
     "iopub.status.idle": "2023-12-06T17:13:25.359692Z",
     "shell.execute_reply": "2023-12-06T17:13:25.358985Z",
     "shell.execute_reply.started": "2023-12-06T17:13:18.064230Z"
    },
    "tags": []
   },
   "outputs": [
    {
     "data": {
      "application/vnd.jupyter.widget-view+json": {
       "model_id": "11d508c9a5794d50a5a00f0555a427fa",
       "version_major": 2,
       "version_minor": 0
      },
      "text/plain": [
       "VBox()"
      ]
     },
     "metadata": {},
     "output_type": "display_data"
    },
    {
     "data": {
      "application/vnd.jupyter.widget-view+json": {
       "model_id": "",
       "version_major": 2,
       "version_minor": 0
      },
      "text/plain": [
       "FloatProgress(value=0.0, bar_style='info', description='Progress:', layout=Layout(height='25px', width='50%'),…"
      ]
     },
     "metadata": {},
     "output_type": "display_data"
    },
    {
     "name": "stdout",
     "output_type": "stream",
     "text": [
      "+-------------------------------------------------+-------------+\n",
      "|primaryTitle                                     |averageRating|\n",
      "+-------------------------------------------------+-------------+\n",
      "|Bu Can Var Oldugu Sürece                         |10.0         |\n",
      "|L'Enfant Terrible                                |10.0         |\n",
      "|A Grunt's Life                                   |10.0         |\n",
      "|Kirket                                           |10.0         |\n",
      "|Our Scripted Life                                |10.0         |\n",
      "|The Twilight Zone: A 60th Anniversary Celebration|10.0         |\n",
      "|The Butcher Baronet                              |10.0         |\n",
      "|A Medicine for the Mind                          |10.0         |\n",
      "|Love in Kilnerry                                 |10.0         |\n",
      "|Superhombre                                      |9.9          |\n",
      "|Puritan: All of Life to The Glory of God         |9.9          |\n",
      "|The Cardinal                                     |9.9          |\n",
      "|Square One                                       |9.8          |\n",
      "|Kamen Rider Zi-O: Over Quartzer                  |9.8          |\n",
      "|Time and motion                                  |9.8          |\n",
      "|We Shall Not Die Now                             |9.8          |\n",
      "|From Shock to Awe                                |9.8          |\n",
      "|Randhawa                                         |9.8          |\n",
      "|Gini Helida Kathe                                |9.8          |\n",
      "+-------------------------------------------------+-------------+"
     ]
    }
   ],
   "source": [
    "join_titleRating = titles.join(ratings, 'tconst')\n",
    "\n",
    "high_rated_movies = join_titleRating.filter((col(\"titleType\") == \"movie\") &\n",
    "                                                    (col(\"startYear\") == \"2019\") &\n",
    "                                                    (col(\"averageRating\").cast(\"float\") > 9.7)) \\\n",
    "    .select(\"primaryTitle\", col(\"averageRating\").alias(\"averageRating\").cast(\"float\")) \\\n",
    "    .orderBy(col(\"averageRating\").desc())\n",
    "\n",
    "high_rated_movies.show(truncate=False)"
   ]
  },
  {
   "cell_type": "markdown",
   "id": "a884583a-e943-48c3-afdc-54ff6f51ff97",
   "metadata": {},
   "source": [
    "## 5) Among the titles in which Clint Eastwood and Harrison Ford have acted, who has the higher average rating?\n",
    "\n"
   ]
  },
  {
   "cell_type": "code",
   "execution_count": 34,
   "id": "df2500aa-0304-4170-9ae2-c15d28473c1b",
   "metadata": {
    "execution": {
     "iopub.execute_input": "2023-12-06T17:13:43.461622Z",
     "iopub.status.busy": "2023-12-06T17:13:43.461401Z",
     "iopub.status.idle": "2023-12-06T17:14:58.985644Z",
     "shell.execute_reply": "2023-12-06T17:14:58.984766Z",
     "shell.execute_reply.started": "2023-12-06T17:13:43.461598Z"
    },
    "tags": []
   },
   "outputs": [
    {
     "data": {
      "application/vnd.jupyter.widget-view+json": {
       "model_id": "09382d6c3cec42538a805d0336ee1646",
       "version_major": 2,
       "version_minor": 0
      },
      "text/plain": [
       "VBox()"
      ]
     },
     "metadata": {},
     "output_type": "display_data"
    },
    {
     "data": {
      "application/vnd.jupyter.widget-view+json": {
       "model_id": "",
       "version_major": 2,
       "version_minor": 0
      },
      "text/plain": [
       "FloatProgress(value=0.0, bar_style='info', description='Progress:', layout=Layout(height='25px', width='50%'),…"
      ]
     },
     "metadata": {},
     "output_type": "display_data"
    },
    {
     "name": "stdout",
     "output_type": "stream",
     "text": [
      "The average rating of Harrison Ford is 6.75\n",
      "The average rating of Clint Eastwood is 7.71\n",
      "Clint Eastwood has a higher average rating"
     ]
    }
   ],
   "source": [
    "eastwood_movies = principals.join(name, principals.nconst == name.nconst) \\\n",
    "    .join(ratings, principals.tconst == ratings.tconst) \\\n",
    "    .filter((col(\"primaryName\") == \"Clint Eastwood\") & (col(\"category\") == \"actor\"))\n",
    "\n",
    "ford_movies = principals.join(name, principals.nconst == name.nconst) \\\n",
    "    .join(ratings, principals.tconst == ratings.tconst) \\\n",
    "    .filter((col(\"primaryName\") == \"Harrison Ford\") & (col(\"category\") == \"actor\"))\n",
    "\n",
    "avg_eastwood = eastwood_movies.agg({\"averageRating\": \"avg\"}).collect()[0][0]\n",
    "avg_ford = ford_movies.agg({\"averageRating\": \"avg\"}).collect()[0][0]\n",
    "\n",
    "print(f\"The average rating of Harrison Ford is {avg_ford:.2f}\")\n",
    "print(f\"The average rating of Clint Eastwood is {avg_eastwood:.2f}\")\n",
    "\n",
    "if avg_eastwood > avg_ford:\n",
    "    print(\"Clint Eastwood has a higher average rating\")\n",
    "else:\n",
    "    print(\"Harrison Ford has a higher average rating\")"
   ]
  },
  {
   "cell_type": "markdown",
   "id": "c3fd460a-40ed-459c-b277-26f0e6800bc7",
   "metadata": {},
   "source": [
    "## 6) What is the movie(s) with the highest average rating among those in which Chris Evans has acted?\n",
    "\n",
    "Writing the code in a way that it finds and displays all movies with the highest rating, even if there's more than one. "
   ]
  },
  {
   "cell_type": "code",
   "execution_count": 35,
   "id": "5202e408-58aa-45d9-88ac-4cca6d7a9d81",
   "metadata": {
    "execution": {
     "iopub.execute_input": "2023-12-06T17:15:27.046018Z",
     "iopub.status.busy": "2023-12-06T17:15:27.045797Z",
     "iopub.status.idle": "2023-12-06T17:17:06.764215Z",
     "shell.execute_reply": "2023-12-06T17:17:06.763285Z",
     "shell.execute_reply.started": "2023-12-06T17:15:27.045993Z"
    },
    "tags": []
   },
   "outputs": [
    {
     "data": {
      "application/vnd.jupyter.widget-view+json": {
       "model_id": "b88171524c9149adb5ce2364de6acb50",
       "version_major": 2,
       "version_minor": 0
      },
      "text/plain": [
       "VBox()"
      ]
     },
     "metadata": {},
     "output_type": "display_data"
    },
    {
     "data": {
      "application/vnd.jupyter.widget-view+json": {
       "model_id": "",
       "version_major": 2,
       "version_minor": 0
      },
      "text/plain": [
       "FloatProgress(value=0.0, bar_style='info', description='Progress:', layout=Layout(height='25px', width='50%'),…"
      ]
     },
     "metadata": {},
     "output_type": "display_data"
    },
    {
     "name": "stdout",
     "output_type": "stream",
     "text": [
      "+----------------------+-------------+\n",
      "|primaryTitle          |averageRating|\n",
      "+----------------------+-------------+\n",
      "|Avengers: Infinity War|8.5          |\n",
      "|Avengers: Endgame     |8.5          |\n",
      "+----------------------+-------------+"
     ]
    }
   ],
   "source": [
    "result = (\n",
    "    name.filter(col(\"primaryName\") == \"Chris Evans\")\n",
    "    .join(principals, name.nconst == principals.nconst)\n",
    "    .join(titles.filter(col(\"titleType\") == \"movie\"), \"tconst\")\n",
    "    .join(ratings, \"tconst\")\n",
    "    .select(\"primaryTitle\", \"averageRating\")\n",
    ")\n",
    "\n",
    "max_rating = result.agg({\"averageRating\": \"max\"}).collect()[0][0]\n",
    "\n",
    "result.filter(result.averageRating == max_rating).show(truncate=False)"
   ]
  },
  {
   "cell_type": "markdown",
   "id": "c7086f55-9fa0-40ae-8116-e14ea042d402",
   "metadata": {},
   "source": [
    "## 7) What is the percentage of adult titles in which actors and actresses have acted?"
   ]
  },
  {
   "cell_type": "code",
   "execution_count": 36,
   "id": "d4f96666-b6e2-473d-a566-be5001d7031a",
   "metadata": {
    "execution": {
     "iopub.execute_input": "2023-12-06T17:17:17.296912Z",
     "iopub.status.busy": "2023-12-06T17:17:17.296688Z",
     "iopub.status.idle": "2023-12-06T17:20:53.912052Z",
     "shell.execute_reply": "2023-12-06T17:20:53.906348Z",
     "shell.execute_reply.started": "2023-12-06T17:17:17.296889Z"
    },
    "tags": []
   },
   "outputs": [
    {
     "data": {
      "application/vnd.jupyter.widget-view+json": {
       "model_id": "5792b705e5404a02a2290905f87f5e37",
       "version_major": 2,
       "version_minor": 0
      },
      "text/plain": [
       "VBox()"
      ]
     },
     "metadata": {},
     "output_type": "display_data"
    },
    {
     "data": {
      "application/vnd.jupyter.widget-view+json": {
       "model_id": "",
       "version_major": 2,
       "version_minor": 0
      },
      "text/plain": [
       "FloatProgress(value=0.0, bar_style='info', description='Progress:', layout=Layout(height='25px', width='50%'),…"
      ]
     },
     "metadata": {},
     "output_type": "display_data"
    },
    {
     "name": "stdout",
     "output_type": "stream",
     "text": [
      "The percentage of adult titles actors have acted is: 2.14%\n",
      "The percentage of adult titles actresses have acted is: 5.33%"
     ]
    }
   ],
   "source": [
    "merged_data = principals.join(name, principals.nconst == name.nconst, \"inner\") \\\n",
    "    .join(titles, principals.tconst == titles.tconst, \"inner\") \\\n",
    "    .join(ratings, titles.tconst == ratings.tconst, \"inner\")\n",
    "\n",
    "actors_subset = merged_data.filter(col(\"category\").isin([\"actor\"]))\n",
    "actresses_subset = merged_data.filter(col(\"category\").isin([\"actress\"]))\n",
    "\n",
    "actors_count = actors_subset.count()\n",
    "actresses_count = actresses_subset.count()\n",
    "\n",
    "adult_actors = actors_subset.filter(col(\"isAdult\") == 1).count()\n",
    "adult_actresses = actresses_subset.filter(col(\"isAdult\") == 1).count()\n",
    "\n",
    "percentage_actors = (adult_actors / actors_count) * 100\n",
    "percentage_actresses = (adult_actresses / actresses_count) * 100\n",
    "\n",
    "print(f\"The percentage of adult titles actors have acted is: {percentage_actors:.2f}%\")\n",
    "print(f\"The percentage of adult titles actresses have acted is: {percentage_actresses:.2f}%\")"
   ]
  },
  {
   "cell_type": "markdown",
   "id": "08ea8545-0511-472e-b225-c3af64237cd5",
   "metadata": {},
   "source": [
    "## 8) What are the top 10 movie genres with the shortest average runtime?\n",
    "\n"
   ]
  },
  {
   "cell_type": "code",
   "execution_count": 37,
   "id": "067686da-7232-426a-a922-6ca7bca99ab1",
   "metadata": {
    "execution": {
     "iopub.execute_input": "2023-12-06T17:21:21.530921Z",
     "iopub.status.busy": "2023-12-06T17:21:21.530699Z",
     "iopub.status.idle": "2023-12-06T17:21:28.823556Z",
     "shell.execute_reply": "2023-12-06T17:21:28.822830Z",
     "shell.execute_reply.started": "2023-12-06T17:21:21.530899Z"
    },
    "tags": []
   },
   "outputs": [
    {
     "data": {
      "application/vnd.jupyter.widget-view+json": {
       "model_id": "505d3503ce5347b2ba8fe4d0936fdf1e",
       "version_major": 2,
       "version_minor": 0
      },
      "text/plain": [
       "VBox()"
      ]
     },
     "metadata": {},
     "output_type": "display_data"
    },
    {
     "data": {
      "application/vnd.jupyter.widget-view+json": {
       "model_id": "",
       "version_major": 2,
       "version_minor": 0
      },
      "text/plain": [
       "FloatProgress(value=0.0, bar_style='info', description='Progress:', layout=Layout(height='25px', width='50%'),…"
      ]
     },
     "metadata": {},
     "output_type": "display_data"
    },
    {
     "name": "stdout",
     "output_type": "stream",
     "text": [
      "+-----------+-------------------+\n",
      "|      genre|avg(runtimeMinutes)|\n",
      "+-----------+-------------------+\n",
      "|      Short|              18.67|\n",
      "|       News|              66.85|\n",
      "|Documentary|              72.68|\n",
      "| Reality-TV|              76.28|\n",
      "|      Adult|              77.18|\n",
      "|    Western|              79.36|\n",
      "|  Talk-Show|              79.43|\n",
      "|  Animation|              80.75|\n",
      "|  Biography|              81.05|\n",
      "|  Film-Noir|              83.76|\n",
      "+-----------+-------------------+\n",
      "only showing top 10 rows"
     ]
    }
   ],
   "source": [
    "movies_data = titles.withColumn(\"runtimeMinutes\", titles[\"runtimeMinutes\"].cast(\"float\")) \\\n",
    "    .filter(col(\"titleType\") == \"movie\")\n",
    "\n",
    "separated_genres = movies_data.withColumn(\"genre\", explode(split(col(\"genres\"), \", \"))) \\\n",
    "    .withColumn(\"genre\", explode(split(col(\"genre\"), \",\")))\n",
    "\n",
    "avg_runtime = separated_genres.groupBy(\"genre\").avg(\"runtimeMinutes\") \\\n",
    "    .withColumn(\"avg(runtimeMinutes)\", round(\"avg(runtimeMinutes)\", 2)) \\\n",
    "    .filter(col(\"genre\") != \"\\\\N\") \\\n",
    "    .orderBy(\"avg(runtimeMinutes)\") \\\n",
    "    .show(10)\n"
   ]
  },
  {
   "cell_type": "markdown",
   "id": "867fc752-8ad8-41dd-a21d-bbae10f7295b",
   "metadata": {},
   "source": [
    "## 9) What are the most common character names for actors and actresses in Romance movies?"
   ]
  },
  {
   "cell_type": "code",
   "execution_count": 38,
   "id": "c757d669-506b-413e-94e0-ee8908fe4327",
   "metadata": {
    "execution": {
     "iopub.execute_input": "2023-12-06T17:21:43.137015Z",
     "iopub.status.busy": "2023-12-06T17:21:43.136798Z",
     "iopub.status.idle": "2023-12-06T17:22:20.540631Z",
     "shell.execute_reply": "2023-12-06T17:22:20.539878Z",
     "shell.execute_reply.started": "2023-12-06T17:21:43.136991Z"
    },
    "tags": []
   },
   "outputs": [
    {
     "data": {
      "application/vnd.jupyter.widget-view+json": {
       "model_id": "ae8638e38fe5446fb3b48a4aa0a7821d",
       "version_major": 2,
       "version_minor": 0
      },
      "text/plain": [
       "VBox()"
      ]
     },
     "metadata": {},
     "output_type": "display_data"
    },
    {
     "data": {
      "application/vnd.jupyter.widget-view+json": {
       "model_id": "",
       "version_major": 2,
       "version_minor": 0
      },
      "text/plain": [
       "FloatProgress(value=0.0, bar_style='info', description='Progress:', layout=Layout(height='25px', width='50%'),…"
      ]
     },
     "metadata": {},
     "output_type": "display_data"
    },
    {
     "name": "stdout",
     "output_type": "stream",
     "text": [
      "+--------+-----+----------+\n",
      "|category|count|characters|\n",
      "+--------+-----+----------+\n",
      "| actress|  228|  [\"Anna\"]|\n",
      "|   actor|  182| [\"David\"]|\n",
      "+--------+-----+----------+"
     ]
    }
   ],
   "source": [
    "from pyspark.sql.functions import max\n",
    "\n",
    "romance_movies = titles.filter((col(\"titleType\") == \"movie\") & col(\"genres\").contains(\"Romance\"))\n",
    "\n",
    "romance_join = romance_movies.join(principals, \"tconst\")\n",
    "\n",
    "actors_actresses = romance_join.filter((col(\"category\").isin([\"actor\", \"actress\"])) & (col(\"characters\") != \"\\\\N\")) \\\n",
    "    .groupBy(\"category\", \"characters\") \\\n",
    "    .agg(count(\"*\").alias(\"count\"))\n",
    "\n",
    "common_characters = actors_actresses.join(\n",
    "    actors_actresses.groupBy(\"category\").agg(max(\"count\").alias(\"max_count\")), \"category\"\n",
    ").filter(col(\"count\") == col(\"max_count\")).select(\"category\", \"count\", col(\"characters\").alias(\"characters\"))\n",
    "\n",
    "common_characters.show()"
   ]
  }
 ],
 "metadata": {
  "kernelspec": {
   "display_name": "Python 3 (ipykernel)",
   "language": "python",
   "name": "python3"
  },
  "language_info": {
   "codemirror_mode": {
    "name": "ipython",
    "version": 3
   },
   "file_extension": ".py",
   "mimetype": "text/x-python",
   "name": "python",
   "nbconvert_exporter": "python",
   "pygments_lexer": "ipython3",
   "version": "3.11.5"
  }
 },
 "nbformat": 4,
 "nbformat_minor": 5
}
